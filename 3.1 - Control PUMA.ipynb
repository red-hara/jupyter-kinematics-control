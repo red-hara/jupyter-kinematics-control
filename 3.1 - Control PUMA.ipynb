{
 "cells": [
  {
   "cell_type": "markdown",
   "metadata": {},
   "source": [
    "# Управление роботом PUMA"
   ]
  },
  {
   "cell_type": "code",
   "execution_count": null,
   "metadata": {},
   "outputs": [],
   "source": [
    "from matplotlib import pyplot as plt\n",
    "from matplotlib import animation\n",
    "import numpy as np\n",
    "from IPython.display import HTML\n",
    "%matplotlib notebook"
   ]
  },
  {
   "cell_type": "code",
   "execution_count": null,
   "metadata": {},
   "outputs": [],
   "source": [
    "from kinematics import Vector, Quaternion, Transform\n",
    "import graphics"
   ]
  },
  {
   "cell_type": "markdown",
   "metadata": {},
   "source": [
    "Возьмем готовые функции для моделирования кинематики:"
   ]
  },
  {
   "cell_type": "code",
   "execution_count": null,
   "metadata": {},
   "outputs": [],
   "source": [
    "irb_l = [352.0, 70.0, 350.0, 380.0, 65.0]"
   ]
  },
  {
   "cell_type": "code",
   "execution_count": null,
   "metadata": {},
   "outputs": [],
   "source": [
    "def irb_chain(q, l):\n",
    "    base = Transform.identity()\n",
    "    column = base + Transform(\n",
    "        Vector(0, 0, l[0]),\n",
    "        Quaternion.from_angle_axis(q[0], Vector(0, 0, 1))\n",
    "    )\n",
    "    shoulder = column + Transform(\n",
    "        Vector(l[1], 0, 0),\n",
    "        Quaternion.from_angle_axis(q[1], Vector(0, -1, 0))\n",
    "    )\n",
    "    elbow = shoulder + Transform(\n",
    "        Vector(0, 0, l[2]),\n",
    "        Quaternion.from_angle_axis(q[2], Vector(0, 1, 0))\n",
    "    )\n",
    "    wrist = elbow + Transform(\n",
    "        Vector(l[3], 0, 0),\n",
    "        Quaternion.from_angle_axis(q[3], Vector(1, 0, 0)) *\n",
    "        Quaternion.from_angle_axis(q[4], Vector(0, 1, 0))\n",
    "    )\n",
    "    flange = wrist + Transform(\n",
    "        Vector(l[4], 0, 0),\n",
    "        Quaternion.from_angle_axis(q[5], Vector(1, 0, 0)) *\n",
    "        Quaternion.from_angle_axis(np.pi / 2, Vector(0, 1, 0))\n",
    "    )\n",
    "    return [\n",
    "        base,\n",
    "        column,\n",
    "        shoulder,\n",
    "        elbow,\n",
    "        wrist,\n",
    "        flange\n",
    "    ]"
   ]
  },
  {
   "cell_type": "code",
   "execution_count": null,
   "metadata": {},
   "outputs": [],
   "source": [
    "def wrap_from_to(value, s, e):\n",
    "    r = e - s\n",
    "    return value - (r * np.floor((value - s) / r))\n",
    "\n",
    "def irb_ik(target, l, i=[1, 1, 1]):\n",
    "    wrist = target + Vector(0, 0, -l[4]) +  Vector(0, 0, -l[0])\n",
    "    projection = Vector(wrist.x, wrist.y, 0)\n",
    "    q0 = Vector(0, 1, 0).angle_to(projection, Vector(0, 0, 1)) - np.pi / 2 * i[0] + np.pi\n",
    "    d = ((projection.magnitude() - i[0] * l[1]) ** 2 + wrist.z ** 2) ** 0.5\n",
    "    q2 = -i[1] * np.arccos(\n",
    "        (l[2] **  2 + l[3] ** 2 - d ** 2) /\\\n",
    "        (2 * l[2] * l[3])\n",
    "    ) + np.pi / 2\n",
    "    triangle_angle = np.arcsin(\n",
    "        l[3] * i[0] * np.sin(q2 - np.pi / 2) / d\n",
    "    )\n",
    "    lift_angle = np.arctan2(\n",
    "        wrist.z,\n",
    "        (projection.magnitude() - i[0] * l[1])\n",
    "    )\n",
    "    q1 = -i[0] * (np.pi / 2 + triangle_angle - lift_angle)\n",
    "    ori = Quaternion.from_angle_axis(q0, Vector(0, 0, 1)) *\\\n",
    "        Quaternion.from_angle_axis(q1, Vector(0, -1, 0)) *\\\n",
    "        Quaternion.from_angle_axis(q2, Vector(0, 1, 0))\n",
    "    ez = ori * Vector(1, 0, 0)\n",
    "    ey = ori * Vector(0, 1, 0)\n",
    "    tz = target.rotation * Vector(0, 0, 1)\n",
    "    ty = target.rotation * Vector(0, 1, 0)\n",
    "    wy = ez.cross(tz)\n",
    "    q3 = ey.angle_to(wy, ez) + np.pi / 2 - np.pi / 2 * i[2]\n",
    "    q4 = ez.angle_to(tz, wy) * i[2]\n",
    "    q5 = wy.angle_to(ty, tz) + np.pi / 2 -np.pi / 2 * i[2]\n",
    "    return (\n",
    "        wrap_from_to(q0, -np.pi, np.pi),\n",
    "        wrap_from_to(q1, -np.pi, np.pi),\n",
    "        wrap_from_to(q2, -np.pi, np.pi),\n",
    "        wrap_from_to(q3, -np.pi, np.pi),\n",
    "        wrap_from_to(q4, -np.pi, np.pi),\n",
    "        wrap_from_to(q5, -np.pi, np.pi)\n",
    "    )"
   ]
  },
  {
   "cell_type": "markdown",
   "metadata": {},
   "source": [
    "Добавим функцию учитывающую ограничения степеней подвижности:"
   ]
  },
  {
   "cell_type": "code",
   "execution_count": null,
   "metadata": {},
   "outputs": [],
   "source": [
    "irb_lim = [\n",
    "    (-180, 180),\n",
    "    (-90, 110),\n",
    "    (-230, 50),\n",
    "    (-200, 200),\n",
    "    (-115, 115),\n",
    "    (-400, 400)\n",
    "]"
   ]
  },
  {
   "cell_type": "code",
   "execution_count": null,
   "metadata": {},
   "outputs": [],
   "source": [
    "def irb_ik_lim(target, l, i=[1, 1, 1]):\n",
    "    solution = irb_ik(target, l, i)\n",
    "    for index in range(len(solution)):\n",
    "        if solution[index] < np.deg2rad(irb_lim[index][0]) or\\\n",
    "            solution[index] > np.deg2rad(irb_lim[index][1]) or\\\n",
    "            np.isnan(solution[index]):\n",
    "            return None\n",
    "    return solution"
   ]
  },
  {
   "cell_type": "markdown",
   "metadata": {},
   "source": [
    "Объявим функцию для описания линейной траектории:"
   ]
  },
  {
   "cell_type": "code",
   "execution_count": null,
   "metadata": {},
   "outputs": [],
   "source": [
    "def lin(start, end, t, total):\n",
    "    return Transform.lerp(\n",
    "        start,\n",
    "        end,\n",
    "        t / total\n",
    "    )"
   ]
  },
  {
   "cell_type": "code",
   "execution_count": null,
   "metadata": {},
   "outputs": [],
   "source": [
    "s = Transform(\n",
    "    Vector(200, 400, 600),\n",
    "    Quaternion.from_angle_axis(np.pi / 2, Vector(-1, 0, 0))\n",
    ")\n",
    "e = Transform(\n",
    "    Vector(200, -300, 800),\n",
    "    Quaternion.from_angle_axis(np.pi / 2, Vector(0, 1, 0))\n",
    ")\n",
    "irb_i = [1, 1, -1]"
   ]
  },
  {
   "cell_type": "markdown",
   "metadata": {},
   "source": [
    "Рассмотрим это линейное движение:"
   ]
  },
  {
   "cell_type": "code",
   "execution_count": null,
   "metadata": {},
   "outputs": [],
   "source": [
    "(x, y, z) = graphics.chain_to_points(\n",
    "    irb_chain([0, 0, 0, 0, 0, 0], irb_l)\n",
    ")\n",
    "fig, ax = graphics.figure(1000)\n",
    "lines, = ax.plot(x, y, z, color=\"#000000\")\n",
    "graphics.axis(ax, s, 100)\n",
    "graphics.axis(ax, e, 100)\n",
    "\n",
    "total = 100\n",
    "\n",
    "def animate(frame):\n",
    "    trs = lin(s, e, frame, total)\n",
    "    q = irb_ik_lim(\n",
    "        trs,\n",
    "        irb_l,\n",
    "        irb_i\n",
    "    )\n",
    "    if q != None:\n",
    "        chain = irb_chain(q, irb_l)\n",
    "        (x, y, z) = graphics.chain_to_points(chain)\n",
    "        lines.set_data_3d(x, y, z)\n",
    "\n",
    "\n",
    "animate(0)\n",
    "fps = 25\n",
    "irb_ani = animation.FuncAnimation(\n",
    "    fig,\n",
    "    animate,\n",
    "    frames=total,\n",
    "    interval=1000.0/fps\n",
    ")"
   ]
  },
  {
   "cell_type": "code",
   "execution_count": null,
   "metadata": {},
   "outputs": [],
   "source": [
    "HTML(irb_ani.to_jshtml())"
   ]
  },
  {
   "cell_type": "markdown",
   "metadata": {},
   "source": [
    "Повторим это движение в режиме переброски:"
   ]
  },
  {
   "cell_type": "code",
   "execution_count": null,
   "metadata": {},
   "outputs": [],
   "source": [
    "(x, y, z) = graphics.chain_to_points(\n",
    "    irb_chain([0, 0, 0, 0, 0, 0], irb_l)\n",
    ")\n",
    "fig, ax = graphics.figure(1000)\n",
    "lines, = ax.plot(x, y, z, color=\"#000000\")\n",
    "graphics.axis(ax, s, 100)\n",
    "graphics.axis(ax, e, 100)\n",
    "\n",
    "total = 100\n",
    "\n",
    "s_q = irb_ik_lim(s, irb_l, irb_i)\n",
    "e_q = irb_ik_lim(e, irb_l, irb_i)\n",
    "\n",
    "def animate(frame):\n",
    "    q = []\n",
    "    for index in range(len(s_q)):\n",
    "        t = frame / total\n",
    "        q += [s_q[index] + t * (e_q[index] - s_q[index])]\n",
    "    chain = irb_chain(q, irb_l)\n",
    "    (x, y, z) = graphics.chain_to_points(chain)\n",
    "    lines.set_data_3d(x, y, z)\n",
    "\n",
    "\n",
    "animate(0)\n",
    "fps = 25\n",
    "irb_ani = animation.FuncAnimation(\n",
    "    fig,\n",
    "    animate,\n",
    "    frames=total,\n",
    "    interval=1000.0/fps\n",
    ")"
   ]
  },
  {
   "cell_type": "code",
   "execution_count": null,
   "metadata": {},
   "outputs": [],
   "source": [
    "HTML(irb_ani.to_jshtml())"
   ]
  },
  {
   "cell_type": "markdown",
   "metadata": {},
   "source": [
    "Опишите разницу между линейным движнием и переброской:\n",
    "- с точки зрения алгоритма управления\n",
    "- с точки зрения исполняемого движения\n",
    "- с точки зрения изменения обобщенных координат (постройте графики)"
   ]
  },
  {
   "cell_type": "markdown",
   "metadata": {},
   "source": [
    "Заранее дан способ построения графиков для переброски"
   ]
  },
  {
   "cell_type": "code",
   "execution_count": null,
   "metadata": {},
   "outputs": [],
   "source": [
    "total = 20\n",
    "step = 0.01\n",
    "t = np.arange(0, total, step)\n",
    "\n",
    "fig = plt.figure()\n",
    "ax = fig.add_subplot()\n",
    "s_q = irb_ik_lim(s, irb_l, irb_i)\n",
    "e_q = irb_ik_lim(e, irb_l, irb_i)\n",
    "q = []\n",
    "for index in range(6):\n",
    "    q += [s_q[index] + t / total * (e_q[index] - s_q[index])]\n",
    "ax.plot(t, q[0], label=\"$q_0$\")\n",
    "ax.plot(t, q[1], label=\"$q_1$\")\n",
    "ax.plot(t, q[2], label=\"$q_2$\")\n",
    "ax.plot(t, q[3], label=\"$q_3$\")\n",
    "ax.plot(t, q[4], label=\"$q_4$\")\n",
    "ax.plot(t, q[5], label=\"$q_5$\")\n",
    "fig.legend()\n",
    "fig.show()"
   ]
  },
  {
   "cell_type": "markdown",
   "metadata": {},
   "source": [
    "Напишите свою реализацию для линейного движения (ниже есть реализация для оценки скоростей, можете воспользоваться ей, адаптировав ее)."
   ]
  },
  {
   "cell_type": "code",
   "execution_count": null,
   "metadata": {},
   "outputs": [],
   "source": []
  },
  {
   "cell_type": "markdown",
   "metadata": {},
   "source": [
    "Напишем функцию для объединения двух линейных движений:"
   ]
  },
  {
   "cell_type": "code",
   "execution_count": null,
   "metadata": {},
   "outputs": [],
   "source": [
    "def lin_lin(start, inter, end, t, total):\n",
    "    progress = t / total\n",
    "    if progress < 0.5:\n",
    "        return Transform.lerp(\n",
    "            start,\n",
    "            inter,\n",
    "            progress * 2\n",
    "        )\n",
    "    else:\n",
    "        return Transform.lerp(\n",
    "            inter,\n",
    "            end,\n",
    "            (progress - 0.5) * 2\n",
    "        )"
   ]
  },
  {
   "cell_type": "markdown",
   "metadata": {},
   "source": [
    "Добавим промежуточную точку:"
   ]
  },
  {
   "cell_type": "code",
   "execution_count": null,
   "metadata": {},
   "outputs": [],
   "source": [
    "i = Transform(\n",
    "    Vector(400, 100, 900),\n",
    "    Quaternion.from_angle_axis(np.pi / 4, Vector(0, 1, 0))\n",
    ")"
   ]
  },
  {
   "cell_type": "markdown",
   "metadata": {},
   "source": [
    "Рассмотрим два линейных движения в цепочке:"
   ]
  },
  {
   "cell_type": "code",
   "execution_count": null,
   "metadata": {
    "scrolled": false
   },
   "outputs": [],
   "source": [
    "(x, y, z) = graphics.chain_to_points(\n",
    "    irb_chain([0, 0, 0, 0, 0, 0], irb_l)\n",
    ")\n",
    "fig, ax = graphics.figure(1000)\n",
    "lines, = ax.plot(x, y, z, color=\"#000000\")\n",
    "graphics.axis(ax, s, 100)\n",
    "graphics.axis(ax, i, 100)\n",
    "graphics.axis(ax, e, 100)\n",
    "\n",
    "total = 100\n",
    "\n",
    "def animate(frame):\n",
    "    trs = lin_lin(s, i, e, frame, total)\n",
    "    q = irb_ik_lim(\n",
    "        trs,\n",
    "        irb_l,\n",
    "        irb_i\n",
    "    )\n",
    "    if q != None:\n",
    "        chain = irb_chain(q, irb_l)\n",
    "        (x, y, z) = graphics.chain_to_points(chain)\n",
    "        lines.set_data_3d(x, y, z)\n",
    "\n",
    "\n",
    "animate(0)\n",
    "fps = 25\n",
    "irb_ani = animation.FuncAnimation(\n",
    "    fig,\n",
    "    animate,\n",
    "    frames=total,\n",
    "    interval=1000.0/fps\n",
    ")"
   ]
  },
  {
   "cell_type": "code",
   "execution_count": null,
   "metadata": {},
   "outputs": [],
   "source": [
    "HTML(irb_ani.to_jshtml())"
   ]
  },
  {
   "cell_type": "markdown",
   "metadata": {},
   "source": [
    "Проанализируем скорости обобщенных координат:"
   ]
  },
  {
   "cell_type": "code",
   "execution_count": null,
   "metadata": {},
   "outputs": [],
   "source": [
    "v_lin_lin = np.vectorize(lin_lin, excluded={0, 1, 2, 4})\n",
    "v_irb_ik = np.vectorize(irb_ik_lim, excluded={1, 2})\n",
    "total = 20\n",
    "step = 0.01\n",
    "t = np.arange(0, total, step)\n",
    "\n",
    "fig = plt.figure()\n",
    "ax = fig.add_subplot()\n",
    "w = np.diff(v_irb_ik(\n",
    "    v_lin_lin(s, i, e, t, total),\n",
    "    irb_l,\n",
    "    irb_i\n",
    ")) / step;\n",
    "ax.plot(t[:-1], w[0], label=\"$\\omega_0$\")\n",
    "ax.plot(t[:-1], w[1], label=\"$\\omega_1$\")\n",
    "ax.plot(t[:-1], w[2], label=\"$\\omega_2$\")\n",
    "ax.plot(t[:-1], w[3], label=\"$\\omega_3$\")\n",
    "ax.plot(t[:-1], w[4], label=\"$\\omega_4$\")\n",
    "ax.plot(t[:-1], w[5], label=\"$\\omega_5$\")\n",
    "fig.legend()\n",
    "fig.show()"
   ]
  },
  {
   "cell_type": "markdown",
   "metadata": {},
   "source": [
    "Как меняется скорость приводов?"
   ]
  },
  {
   "cell_type": "markdown",
   "metadata": {},
   "source": [
    "Напишем функцию для объединения двух линейных движений со сглаживанем:"
   ]
  },
  {
   "cell_type": "code",
   "execution_count": null,
   "metadata": {},
   "outputs": [],
   "source": [
    "def bezier_transform(a, b, c, t):\n",
    "    return Transform.lerp(\n",
    "        Transform.lerp(a, b, t),\n",
    "        Transform.lerp(b, c, t),\n",
    "        t\n",
    "    )\n",
    "\n",
    "def lin_lin_smooth(start, inter, end, t, total, blend=0.1):\n",
    "    progress = t / total\n",
    "    if np.abs(progress - 0.5) < blend:\n",
    "        progress = (progress - 0.5 + blend) / 2 / blend\n",
    "        a = lin(start, inter, 1.0 - 2 * blend, 1)\n",
    "        b = inter\n",
    "        c = lin(inter, end, 2 * blend, 1)\n",
    "        return bezier_transform(\n",
    "            a,\n",
    "            b,\n",
    "            c,\n",
    "            progress\n",
    "        )\n",
    "    else:\n",
    "        return lin_lin(start, inter, end, t, total)"
   ]
  },
  {
   "cell_type": "code",
   "execution_count": null,
   "metadata": {},
   "outputs": [],
   "source": [
    "blending = 0.1"
   ]
  },
  {
   "cell_type": "code",
   "execution_count": null,
   "metadata": {},
   "outputs": [],
   "source": [
    "(x, y, z) = graphics.chain_to_points(\n",
    "    irb_chain([0, 0, 0, 0, 0, 0], irb_l)\n",
    ")\n",
    "fig, ax = graphics.figure(1000)\n",
    "lines, = ax.plot(x, y, z, color=\"#000000\")\n",
    "graphics.axis(ax, s, 100)\n",
    "graphics.axis(ax, i, 100)\n",
    "graphics.axis(ax, e, 100)\n",
    "\n",
    "total = 100\n",
    "\n",
    "def animate(frame):\n",
    "    trs = lin_lin_smooth(s, i, e, frame, total, 0.1)\n",
    "    q = irb_ik_lim(\n",
    "        trs,\n",
    "        irb_l,\n",
    "        irb_i\n",
    "    )\n",
    "    if q != None:\n",
    "        chain = irb_chain(q, irb_l)\n",
    "        (x, y, z) = graphics.chain_to_points(chain)\n",
    "        lines.set_data_3d(x, y, z)\n",
    "\n",
    "\n",
    "animate(0)\n",
    "fps = 25\n",
    "irb_ani = animation.FuncAnimation(\n",
    "    fig,\n",
    "    animate,\n",
    "    frames=total,\n",
    "    interval=1000.0/fps\n",
    ")"
   ]
  },
  {
   "cell_type": "code",
   "execution_count": null,
   "metadata": {},
   "outputs": [],
   "source": [
    "HTML(irb_ani.to_jshtml())"
   ]
  },
  {
   "cell_type": "markdown",
   "metadata": {},
   "source": [
    "Снова проанализируем скорости обобщенных координат:"
   ]
  },
  {
   "cell_type": "code",
   "execution_count": null,
   "metadata": {},
   "outputs": [],
   "source": [
    "v_lin_lin = np.vectorize(lin_lin_smooth, excluded={0, 1, 2, 4, 5})\n",
    "v_irb_ik = np.vectorize(irb_ik_lim, excluded={1, 2})\n",
    "total = 20\n",
    "step = 0.01\n",
    "t = np.arange(0, total, step)\n",
    "\n",
    "fig = plt.figure()\n",
    "ax = fig.add_subplot()\n",
    "w = np.diff(v_irb_ik(\n",
    "    v_lin_lin(s, i, e, t, total, blending),\n",
    "    irb_l,\n",
    "    irb_i\n",
    ")) / step;\n",
    "ax.plot(t[:-1], w[0], label=\"$\\omega_0$\")\n",
    "ax.plot(t[:-1], w[1], label=\"$\\omega_1$\")\n",
    "ax.plot(t[:-1], w[2], label=\"$\\omega_2$\")\n",
    "ax.plot(t[:-1], w[3], label=\"$\\omega_3$\")\n",
    "ax.plot(t[:-1], w[4], label=\"$\\omega_4$\")\n",
    "ax.plot(t[:-1], w[5], label=\"$\\omega_5$\")\n",
    "fig.legend()\n",
    "fig.show()"
   ]
  },
  {
   "cell_type": "markdown",
   "metadata": {},
   "source": [
    "Как меняется скорость приводов?"
   ]
  },
  {
   "cell_type": "markdown",
   "metadata": {},
   "source": [
    "## Самостоятельное задание:\n",
    "Проведите исследование для своих точек траектории.\n",
    "\n",
    "Проанализируйте влияние параметра `blend` на скорость обобщенных координат.\n",
    "\n",
    "Оцените ускорения обобщенных координат (через дифференцирование второго порядка `diff(..., 2`)."
   ]
  }
 ],
 "metadata": {
  "@webio": {
   "lastCommId": null,
   "lastKernelId": null
  },
  "kernelspec": {
   "display_name": "Python 3",
   "language": "python",
   "name": "python3"
  },
  "language_info": {
   "codemirror_mode": {
    "name": "ipython",
    "version": 3
   },
   "file_extension": ".py",
   "mimetype": "text/x-python",
   "name": "python",
   "nbconvert_exporter": "python",
   "pygments_lexer": "ipython3",
   "version": "3.9.2"
  }
 },
 "nbformat": 4,
 "nbformat_minor": 4
}
