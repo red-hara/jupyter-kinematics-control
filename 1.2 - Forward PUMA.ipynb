{
 "cells": [
  {
   "cell_type": "markdown",
   "metadata": {},
   "source": [
    "# Прямая задача кинематики PUMA"
   ]
  },
  {
   "cell_type": "code",
   "execution_count": null,
   "metadata": {},
   "outputs": [],
   "source": [
    "from matplotlib import pyplot as plt\n",
    "from matplotlib import animation\n",
    "import numpy as np\n",
    "from IPython.display import HTML\n",
    "%matplotlib notebook"
   ]
  },
  {
   "cell_type": "code",
   "execution_count": null,
   "metadata": {},
   "outputs": [],
   "source": [
    "from kinematics import Vector, Quaternion, Transform\n",
    "import graphics"
   ]
  },
  {
   "cell_type": "markdown",
   "metadata": {},
   "source": [
    "## Решение прямой задачи кинематики для манипулятора PUMA\n",
    "\n",
    "Манипулятор кинематической схемы PUMA обладает шестью степенями подвижности.\n",
    "\n",
    "![внешний виж PUMA](fig/puma_model.png)\n",
    "\n",
    "Его можно условно разделить на сегменты, соединияюще между собой:\n",
    "- основание\n",
    "- плечо\n",
    "- локоть\n",
    "- кисть\n",
    "- фланец\n",
    "\n",
    "![кинематическая схема PUMA](fig/puma.png)\n",
    "\n",
    "Длина этих сегментов определена в таблице:\n",
    "\n",
    "Пара | длина\n",
    ":----|:-----\n",
    "основание - плечо | $l_0$\n",
    "плечо - локоть | $l_1$\n",
    "локоть - кисть | $l_2$\n",
    "кисть - фланец | $l_3$"
   ]
  },
  {
   "cell_type": "code",
   "execution_count": null,
   "metadata": {},
   "outputs": [],
   "source": [
    "def puma_chain(q, l, math_source=np):\n",
    "    base = Transform.identity()\n",
    "    shoulder = base + Transform(\n",
    "        Vector(0, 0, l[0]),\n",
    "        Quaternion.from_angle_axis(q[0], Vector(0, 0, 1), math_source) * \n",
    "        Quaternion.from_angle_axis(q[1], Vector(0, 1, 0), math_source)\n",
    "    )\n",
    "    elbow = shoulder + Transform(\n",
    "        Vector(0, 0, l[1]),\n",
    "        Quaternion.from_angle_axis(q[2], Vector(0, 1, 0), math_source)\n",
    "    )\n",
    "    wrist = elbow + Transform(\n",
    "        Vector(0, 0, l[2]),\n",
    "        Quaternion.from_angle_axis(q[3], Vector(0, 0, 1), math_source) *\n",
    "        Quaternion.from_angle_axis(q[4], Vector(0, 1, 0), math_source)\n",
    "    )\n",
    "    flange = wrist + Transform(\n",
    "        Vector(0, 0, l[3]),\n",
    "        Quaternion.from_angle_axis(q[5], Vector(0, 0, 1), math_source)\n",
    "    )\n",
    "    return [base, shoulder, elbow, wrist, flange]"
   ]
  },
  {
   "cell_type": "markdown",
   "metadata": {},
   "source": [
    "Зададим изменение обобщенных координат:"
   ]
  },
  {
   "cell_type": "code",
   "execution_count": null,
   "metadata": {},
   "outputs": [],
   "source": [
    "def puma_q(t, total):\n",
    "    omega = t / total * np.pi * 2\n",
    "    return [\n",
    "        np.pi / 4 * np.sin(omega),\n",
    "        np.pi / 8,\n",
    "        np.pi / 2,\n",
    "        omega,\n",
    "        np.pi / 2,\n",
    "        0\n",
    "    ]"
   ]
  },
  {
   "cell_type": "markdown",
   "metadata": {},
   "source": [
    "Зададим длины звеньев:"
   ]
  },
  {
   "cell_type": "code",
   "execution_count": null,
   "metadata": {},
   "outputs": [],
   "source": [
    "puma_l = [1, 2, 1, 0.5]"
   ]
  },
  {
   "cell_type": "code",
   "execution_count": null,
   "metadata": {},
   "outputs": [],
   "source": [
    "puma_fig = plt.figure()\n",
    "ax = puma_fig.add_subplot(projection=\"3d\")\n",
    "ax.set_xlim([-2, 2]); ax.set_ylim([-2, 2]); ax.set_zlim([0, 4])\n",
    "lines, = ax.plot([], [], [], color=\"#000000\")\n",
    "graphics.axis(ax, Transform.identity(), 2)\n",
    "r, g, b = graphics.axis(ax, Transform.identity(), 1)\n",
    "\n",
    "total = 100\n",
    "\n",
    "def animate(frame):\n",
    "    chain = puma_chain(puma_q(frame, total), puma_l)\n",
    "    (x, y, z) = graphics.chain_to_points(chain)\n",
    "    lines.set_data_3d(x, y, z)\n",
    "    global r, g, b\n",
    "    r.remove(); g.remove(); b.remove()\n",
    "    r, g, b = graphics.axis(ax, chain[-1], 0.5)\n",
    "\n",
    "    \n",
    "animate(0)\n",
    "fps = 25\n",
    "puma_ani = animation.FuncAnimation(\n",
    "    puma_fig,\n",
    "    animate,\n",
    "    frames=total,\n",
    "    interval=1000.0/fps\n",
    ")"
   ]
  },
  {
   "cell_type": "code",
   "execution_count": null,
   "metadata": {},
   "outputs": [],
   "source": [
    "HTML(puma_ani.to_jshtml())"
   ]
  },
  {
   "cell_type": "markdown",
   "metadata": {},
   "source": [
    "## Отображение траектории"
   ]
  },
  {
   "cell_type": "code",
   "execution_count": null,
   "metadata": {},
   "outputs": [],
   "source": [
    "t_end = 10\n",
    "step = 0.1\n",
    "t = np.arange(0, t_end, step)\n",
    "chain = puma_chain(puma_q(t, t_end), puma_l)\n",
    "x, y, z = graphics.chain_to_points(chain)\n",
    "\n",
    "fig = plt.figure()\n",
    "ax = fig.add_subplot(projection=\"3d\")\n",
    "ax.set_xlim([-2, 2]); ax.set_ylim([-2, 2]); ax.set_zlim([0, 4])\n",
    "ax.plot(x[2], y[2], z[2], color=\"#c0c0c0\")\n",
    "ax.plot(x[3], y[3], z[3], color=\"#c0c0c0\")\n",
    "ax.plot(x[4], y[4], z[4], color=\"#000000\")\n",
    "graphics.axis(ax, Transform.identity(), 2)\n",
    "fig.show()"
   ]
  },
  {
   "cell_type": "markdown",
   "metadata": {},
   "source": [
    "## Измерение скорости движения\n",
    "\n",
    "Численно продиффиринцируем положение всех точек траектории"
   ]
  },
  {
   "cell_type": "code",
   "execution_count": null,
   "metadata": {},
   "outputs": [],
   "source": [
    "t_end = 10\n",
    "step = 0.01\n",
    "t = np.arange(0, t_end, step)\n",
    "chain = puma_chain(puma_q(t, t_end), puma_l)\n",
    "end = chain[-1]\n",
    "velocity_x = np.diff(end.translation.x) / step\n",
    "velocity_y = np.diff(end.translation.y) / step\n",
    "velocity_z = np.diff(end.translation.z) / step\n",
    "velocity_total = (velocity_x ** 2 + velocity_y ** 2 + velocity_z ** 2) ** 0.5\n",
    "\n",
    "fig = plt.figure()\n",
    "ax = fig.add_subplot()\n",
    "\n",
    "ax.plot(t[:-1], velocity_x, color=\"#ff0000\", label=\"$V_x$\")\n",
    "ax.plot(t[:-1], velocity_y, color=\"#00ff00\", label=\"$V_y$\")\n",
    "ax.plot(t[:-1], velocity_z, color=\"#0000ff\", label=\"$V_z$\")\n",
    "ax.plot(t[:-1], velocity_total, color=\"#000000\", label=\"$V$\")\n",
    "fig.legend()\n",
    "fig.show()"
   ]
  },
  {
   "cell_type": "markdown",
   "metadata": {},
   "source": [
    "## Самостоятельные задания\n",
    "\n",
    "Для своего закона изменения обобщенных координат\n",
    "\n",
    "- Оцените диапазон $X$, $Y$ и $Z$ координат для данной траектории;\n",
    "- Оцените максимальную скорость по осям;\n",
    "- Оцените абсолютную максимальную скорость."
   ]
  }
 ],
 "metadata": {
  "@webio": {
   "lastCommId": null,
   "lastKernelId": null
  },
  "kernelspec": {
   "display_name": "venv",
   "language": "python",
   "name": "venv"
  },
  "language_info": {
   "codemirror_mode": {
    "name": "ipython",
    "version": 3
   },
   "file_extension": ".py",
   "mimetype": "text/x-python",
   "name": "python",
   "nbconvert_exporter": "python",
   "pygments_lexer": "ipython3",
   "version": "3.9.1"
  }
 },
 "nbformat": 4,
 "nbformat_minor": 4
}
