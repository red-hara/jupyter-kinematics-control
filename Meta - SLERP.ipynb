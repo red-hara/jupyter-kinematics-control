{
 "cells": [
  {
   "cell_type": "markdown",
   "metadata": {},
   "source": [
    "# Сферическая линейная интерполяция\n",
    "\n",
    "Интерполяция между двумя ориентацими по кратчайшей траектории делатется посредством операции `slerp`."
   ]
  },
  {
   "cell_type": "code",
   "execution_count": null,
   "metadata": {},
   "outputs": [],
   "source": [
    "from matplotlib import pyplot as plt\n",
    "from matplotlib import animation\n",
    "import numpy as np\n",
    "from IPython.display import HTML\n",
    "%matplotlib notebook"
   ]
  },
  {
   "cell_type": "code",
   "execution_count": null,
   "metadata": {},
   "outputs": [],
   "source": [
    "from kinematics import Vector, Quaternion, Transform\n",
    "import graphics"
   ]
  },
  {
   "cell_type": "markdown",
   "metadata": {},
   "source": [
    "Зададим начальную и конечные ориентации:"
   ]
  },
  {
   "cell_type": "code",
   "execution_count": null,
   "metadata": {},
   "outputs": [],
   "source": [
    "a = np.pi / 4\n",
    "b = 2 / 3 * np.pi\n",
    "c = np.pi * 31 / 8\n",
    "\n",
    "s = Quaternion.identity()\n",
    "e = Quaternion.from_angle_axis(a, Vector(0, 0, 1)) *\\\n",
    "    Quaternion.from_angle_axis(b, Vector(0, 1, 0)) *\\\n",
    "    Quaternion.from_angle_axis(c, Vector(1, 0, 0))"
   ]
  },
  {
   "cell_type": "markdown",
   "metadata": {},
   "source": [
    "Проинтерполируем между двумя ориентациями с использованием `slerp`:"
   ]
  },
  {
   "cell_type": "code",
   "execution_count": null,
   "metadata": {},
   "outputs": [],
   "source": [
    "fig, ax = graphics.figure(2)\n",
    "\n",
    "graphics.axis(ax, Transform(Vector.zero(), s), 0.9)\n",
    "graphics.axis(ax, Transform(Vector.zero(), e), 0.9)\n",
    "ar, ag, ab = graphics.axis(ax, Transform.identity(), 1)\n",
    "\n",
    "total = 100\n",
    "\n",
    "def animate(frame):\n",
    "    progress = frame / total\n",
    "    q = Quaternion.slerp(\n",
    "        s,\n",
    "        e,\n",
    "        progress\n",
    "    )\n",
    "    global ar, ag, ab\n",
    "    ar.remove(); ag.remove(); ab.remove()\n",
    "    ar, ag, ab = graphics.axis(ax, Transform(Vector.zero(), q), 1)\n",
    "    \n",
    "animate(0)\n",
    "fps = 25\n",
    "ani = animation.FuncAnimation(\n",
    "    fig,\n",
    "    animate,\n",
    "    frames=total,\n",
    "    interval=1000.0/fps\n",
    ")"
   ]
  },
  {
   "cell_type": "code",
   "execution_count": null,
   "metadata": {},
   "outputs": [],
   "source": [
    "HTML(ani.to_jshtml())"
   ]
  },
  {
   "cell_type": "markdown",
   "metadata": {},
   "source": [
    "Повторим интерполяцию, но, в этот раз, по углам Эйлера $ZYX$:"
   ]
  },
  {
   "cell_type": "code",
   "execution_count": null,
   "metadata": {},
   "outputs": [],
   "source": [
    "fig, ax = graphics.figure(2)\n",
    "\n",
    "graphics.axis(ax, Transform(Vector.zero(), s), 0.9)\n",
    "graphics.axis(ax, Transform(Vector.zero(), e), 0.9)\n",
    "ar, ag, ab = graphics.axis(ax, Transform.identity(), 1)\n",
    "\n",
    "total = 100\n",
    "\n",
    "def animate(frame):\n",
    "    progress = frame / total\n",
    "    pa = progress * a\n",
    "    pb = progress * b\n",
    "    pc = progress * c\n",
    "    q = Quaternion.from_angle_axis(pa, Vector(0, 0, 1)) *\\\n",
    "        Quaternion.from_angle_axis(pb, Vector(0, 1, 0)) *\\\n",
    "        Quaternion.from_angle_axis(pc, Vector(1, 0, 0))\n",
    "    global ar, ag, ab\n",
    "    ar.remove(); ag.remove(); ab.remove()\n",
    "    ar, ag, ab = graphics.axis(ax, Transform(Vector.zero(), q), 1)\n",
    "    \n",
    "animate(0)\n",
    "fps = 25\n",
    "ani = animation.FuncAnimation(\n",
    "    fig,\n",
    "    animate,\n",
    "    frames=total,\n",
    "    interval=1000.0/fps\n",
    ")"
   ]
  },
  {
   "cell_type": "code",
   "execution_count": null,
   "metadata": {},
   "outputs": [],
   "source": [
    "HTML(ani.to_jshtml())"
   ]
  }
 ],
 "metadata": {
  "@webio": {
   "lastCommId": null,
   "lastKernelId": null
  },
  "kernelspec": {
   "display_name": "venv",
   "language": "python",
   "name": "venv"
  },
  "language_info": {
   "codemirror_mode": {
    "name": "ipython",
    "version": 3
   },
   "file_extension": ".py",
   "mimetype": "text/x-python",
   "name": "python",
   "nbconvert_exporter": "python",
   "pygments_lexer": "ipython3",
   "version": "3.9.2"
  }
 },
 "nbformat": 4,
 "nbformat_minor": 4
}
