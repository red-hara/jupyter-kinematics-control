{
 "cells": [
  {
   "cell_type": "markdown",
   "metadata": {},
   "source": [
    "## Управление роботом SCARA"
   ]
  },
  {
   "cell_type": "code",
   "execution_count": null,
   "metadata": {},
   "outputs": [],
   "source": [
    "from matplotlib import pyplot as plt\n",
    "from matplotlib import animation\n",
    "import numpy as np\n",
    "from IPython.display import HTML\n",
    "%matplotlib notebook"
   ]
  },
  {
   "cell_type": "code",
   "execution_count": null,
   "metadata": {},
   "outputs": [],
   "source": [
    "from kinematics import Vector, Quaternion, Transform\n",
    "import graphics"
   ]
  },
  {
   "cell_type": "markdown",
   "metadata": {},
   "source": [
    "Возьмем готовые функции для моделирования кинематики:"
   ]
  },
  {
   "cell_type": "code",
   "execution_count": null,
   "metadata": {},
   "outputs": [],
   "source": [
    "scara_l = [220.2, 200, 250]"
   ]
  },
  {
   "cell_type": "code",
   "execution_count": null,
   "metadata": {},
   "outputs": [],
   "source": [
    "def scara_chain(q, l):\n",
    "    base = Transform.identity()\n",
    "    column = base + Transform(\n",
    "        Vector(0, 0, l[0]),\n",
    "        Quaternion.from_angle_axis(q[0], Vector(0, 0, 1))\n",
    "    )\n",
    "    elbow = column + Transform(\n",
    "        Vector(l[1], 0, 0),\n",
    "        Quaternion.from_angle_axis(q[1], Vector(0, 0, 1))\n",
    "    )\n",
    "    tool = elbow + Transform(\n",
    "        Vector(l[2], 0, 0),\n",
    "        Quaternion.from_angle_axis(q[2], Vector(0, 0, 1))\n",
    "    )\n",
    "    flange = tool + Transform(\n",
    "        Vector(0, 0, -q[3]),\n",
    "        Quaternion.identity()\n",
    "    )\n",
    "    return [\n",
    "        base,\n",
    "        column,\n",
    "        elbow,\n",
    "        tool,\n",
    "        flange\n",
    "    ]"
   ]
  },
  {
   "cell_type": "markdown",
   "metadata": {},
   "source": [
    "Воспользуйтесь своим решением обратной задачи кинематики"
   ]
  },
  {
   "cell_type": "code",
   "execution_count": null,
   "metadata": {},
   "outputs": [],
   "source": [
    "def wrap_from_to(value, s, e):\n",
    "    r = e - s\n",
    "    return value - (r * np.floor((value - s) / r))\n",
    "\n",
    "def scara_ik(target, l):\n",
    "    d = (target.translation.x ** 2 + target.translation.y ** 2) ** 0.5\n",
    "    q0 = Vector(1, 0, 0).angle_to(\n",
    "        Vector(target.translation.x, target.translation.y, 0),\n",
    "        Vector(0, 0, 1)\n",
    "    )\n",
    "    q1 = np.pi / 2\n",
    "    q2 = 0\n",
    "    q3 = 100\n",
    "    return (\n",
    "        wrap_from_to(q0, -np.pi, np.pi),\n",
    "        wrap_from_to(q1, -np.pi, np.pi),\n",
    "        wrap_from_to(q2, -np.pi, np.pi),\n",
    "        q3\n",
    "    )"
   ]
  },
  {
   "cell_type": "markdown",
   "metadata": {},
   "source": [
    "Добавим функцию учитывающую ограничения степеней подвижности:"
   ]
  },
  {
   "cell_type": "code",
   "execution_count": null,
   "metadata": {},
   "outputs": [],
   "source": [
    "scara_lim = [\n",
    "    (-140, 140),\n",
    "    (-150, 150),\n",
    "    (-400, 400),\n",
    "    (0, 180)\n",
    "]"
   ]
  },
  {
   "cell_type": "code",
   "execution_count": null,
   "metadata": {},
   "outputs": [],
   "source": [
    "def scara_ik_lim(target, l):\n",
    "    solution = scara_ik(target, l)\n",
    "    for index in range(len(solution) - 1):\n",
    "        if solution[index] < np.deg2rad(scara_lim[index][0]) or\\\n",
    "            solution[index] > np.deg2rad(scara_lim[index][1]) or\\\n",
    "            np.isnan(solution[index]):\n",
    "            return None\n",
    "    return solution"
   ]
  },
  {
   "cell_type": "markdown",
   "metadata": {},
   "source": [
    "Для описания целевого положения будем использовать вектор и угол поворота вокруг вертикальной оси:"
   ]
  },
  {
   "cell_type": "code",
   "execution_count": null,
   "metadata": {},
   "outputs": [],
   "source": [
    "class Target:\n",
    "    def __init__(self, translation, angle):\n",
    "        super(Target, self).__init__()\n",
    "        self.translation = translation\n",
    "        self.angle = angle\n",
    "    \n",
    "    def to_transform(self):\n",
    "        return Transform(\n",
    "            self.translation,\n",
    "            Quaternion.from_angle_axis(\n",
    "                self.angle,\n",
    "                Vector(0, 0, 1)\n",
    "            )\n",
    "        )"
   ]
  },
  {
   "cell_type": "markdown",
   "metadata": {},
   "source": [
    "Объявим функцию для описания линейной траектории:"
   ]
  },
  {
   "cell_type": "code",
   "execution_count": null,
   "metadata": {},
   "outputs": [],
   "source": [
    "def lin(start, end, t, total):\n",
    "    progress = t / total\n",
    "    return Target(\n",
    "        Vector.lerp(start.translation, end.translation, progress),\n",
    "        start.angle + (end.angle - start.angle) * progress\n",
    "    )"
   ]
  },
  {
   "cell_type": "code",
   "execution_count": null,
   "metadata": {},
   "outputs": [],
   "source": [
    "s = Target(\n",
    "    Vector(200, 300, 120),\n",
    "    0\n",
    ")\n",
    "e = Target(\n",
    "    Vector(200, -200, 200),\n",
    "    np.pi / 2\n",
    ")"
   ]
  },
  {
   "cell_type": "code",
   "execution_count": null,
   "metadata": {},
   "outputs": [],
   "source": [
    "(x, y, z) = graphics.chain_to_points(\n",
    "    scara_chain([0, 0, 0, 0], scara_l)\n",
    ")\n",
    "fig, ax = graphics.figure(1000)\n",
    "lines, = ax.plot(x, y, z, color=\"#000000\")\n",
    "graphics.axis(ax, s.to_transform(), 100)\n",
    "graphics.axis(ax, e.to_transform(), 100)\n",
    "r, g, b = graphics.axis(ax, Transform.identity(), 1)\n",
    "\n",
    "total = 100\n",
    "\n",
    "def animate(frame):\n",
    "    trs = lin(s, e, frame, total)\n",
    "    q = scara_ik_lim(\n",
    "        trs,\n",
    "        scara_l\n",
    "    )\n",
    "    if q != None:\n",
    "        chain = scara_chain(q, scara_l)\n",
    "        (x, y, z) = graphics.chain_to_points(chain)\n",
    "        lines.set_data_3d(x, y, z)\n",
    "        global r, g, b\n",
    "        r.remove(); g.remove(); b.remove()\n",
    "        r, g, b = graphics.axis(ax, chain[-1], 100)\n",
    "\n",
    "\n",
    "animate(0)\n",
    "fps = 25\n",
    "scara_ani = animation.FuncAnimation(\n",
    "    fig,\n",
    "    animate,\n",
    "    frames=total,\n",
    "    interval=1000.0/fps\n",
    ")"
   ]
  },
  {
   "cell_type": "code",
   "execution_count": null,
   "metadata": {},
   "outputs": [],
   "source": [
    "HTML(scara_ani.to_jshtml())"
   ]
  },
  {
   "cell_type": "code",
   "execution_count": null,
   "metadata": {},
   "outputs": [],
   "source": [
    "(x, y, z) = graphics.chain_to_points(\n",
    "    scara_chain([0, 0, 0, 0, 0, 0], scara_l)\n",
    ")\n",
    "fig, ax = graphics.figure(1000)\n",
    "lines, = ax.plot(x, y, z, color=\"#000000\")\n",
    "graphics.axis(ax, s.to_transform(), 100)\n",
    "graphics.axis(ax, e.to_transform(), 100)\n",
    "\n",
    "total = 100\n",
    "\n",
    "s_q = scara_ik_lim(s, scara_l)\n",
    "e_q = scara_ik_lim(e, scara_l)\n",
    "\n",
    "def animate(frame):\n",
    "    q = []\n",
    "    for index in range(len(s_q)):\n",
    "        t = frame / total\n",
    "        q += [s_q[index] + t * (e_q[index] - s_q[index])]\n",
    "    chain = scara_chain(q, scara_l)\n",
    "    (x, y, z) = graphics.chain_to_points(chain)\n",
    "    lines.set_data_3d(x, y, z)\n",
    "\n",
    "\n",
    "animate(0)\n",
    "fps = 25\n",
    "scara_ani = animation.FuncAnimation(\n",
    "    fig,\n",
    "    animate,\n",
    "    frames=total,\n",
    "    interval=1000.0/fps\n",
    ")"
   ]
  },
  {
   "cell_type": "code",
   "execution_count": null,
   "metadata": {},
   "outputs": [],
   "source": [
    "HTML(scara_ani.to_jshtml())"
   ]
  },
  {
   "cell_type": "markdown",
   "metadata": {},
   "source": [
    "Опишите разницу между линейным движнием и переброской:\n",
    "- с точки зрения алгоритма управления\n",
    "- с точки зрения исполняемого движения\n",
    "- с точки зрения изменения обобщенных координат (постройте графики)"
   ]
  },
  {
   "cell_type": "markdown",
   "metadata": {},
   "source": [
    "Напишем функцию для объединения двух линейных движений:"
   ]
  },
  {
   "cell_type": "code",
   "execution_count": null,
   "metadata": {},
   "outputs": [],
   "source": [
    "def lin_lin(start, inter, end, t, total):\n",
    "    progress = t / total\n",
    "    if progress < 0.5:\n",
    "        return lin(start, inter, progress * 2, 1)\n",
    "    else:\n",
    "        return lin(inter, end, (progress - 0.5) * 2, 1)"
   ]
  },
  {
   "cell_type": "markdown",
   "metadata": {},
   "source": [
    "Добавим промежуточную точку:"
   ]
  },
  {
   "cell_type": "code",
   "execution_count": null,
   "metadata": {},
   "outputs": [],
   "source": [
    "i = Target(\n",
    "    Vector(400, 100, 0),\n",
    "    np.pi,\n",
    ")"
   ]
  },
  {
   "cell_type": "markdown",
   "metadata": {},
   "source": [
    "Рассмотрим два линейных движения в цепочке:"
   ]
  },
  {
   "cell_type": "code",
   "execution_count": null,
   "metadata": {},
   "outputs": [],
   "source": [
    "(x, y, z) = graphics.chain_to_points(\n",
    "    scara_chain([0, 0, 0, 0, 0, 0], scara_l)\n",
    ")\n",
    "fig, ax = graphics.figure(1000)\n",
    "lines, = ax.plot(x, y, z, color=\"#000000\")\n",
    "graphics.axis(ax, s.to_transform(), 100)\n",
    "graphics.axis(ax, i.to_transform(), 100)\n",
    "graphics.axis(ax, e.to_transform(), 100)\n",
    "\n",
    "total = 100\n",
    "\n",
    "def animate(frame):\n",
    "    trs = lin_lin(s, i, e, frame, total)\n",
    "    q = scara_ik_lim(\n",
    "        trs,\n",
    "        scara_l\n",
    "    )\n",
    "    if q != None:\n",
    "        chain = scara_chain(q, scara_l)\n",
    "        (x, y, z) = graphics.chain_to_points(chain)\n",
    "        lines.set_data_3d(x, y, z)\n",
    "\n",
    "\n",
    "animate(0)\n",
    "fps = 25\n",
    "scara_ani = animation.FuncAnimation(\n",
    "    fig,\n",
    "    animate,\n",
    "    frames=total,\n",
    "    interval=1000.0/fps\n",
    ")"
   ]
  },
  {
   "cell_type": "code",
   "execution_count": null,
   "metadata": {},
   "outputs": [],
   "source": [
    "HTML(scara_ani.to_jshtml())"
   ]
  },
  {
   "cell_type": "markdown",
   "metadata": {},
   "source": [
    "Проанализируем скорости обобщенных координат:"
   ]
  },
  {
   "cell_type": "code",
   "execution_count": null,
   "metadata": {},
   "outputs": [],
   "source": [
    "v_lin_lin = np.vectorize(lin_lin, excluded={0, 1, 2, 4})\n",
    "v_irb_ik = np.vectorize(scara_ik_lim, excluded={1, 2})\n",
    "total = 20\n",
    "step = 0.01\n",
    "t = np.arange(0, total, step)\n",
    "\n",
    "fig = plt.figure()\n",
    "ax = fig.add_subplot()\n",
    "w = np.diff(v_irb_ik(\n",
    "    v_lin_lin(s, i, e, t, total),\n",
    "    scara_l,\n",
    ")) / step;\n",
    "ax.plot(t[:-1], w[0], label=\"$\\omega_0$\")\n",
    "ax.plot(t[:-1], w[1], label=\"$\\omega_1$\")\n",
    "ax.plot(t[:-1], w[2], label=\"$\\omega_2$\")\n",
    "ax.plot(t[:-1], w[3], label=\"$\\omega_3$\")\n",
    "fig.legend()\n",
    "fig.show()"
   ]
  },
  {
   "cell_type": "markdown",
   "metadata": {},
   "source": [
    "Как меняется скорость приводов?"
   ]
  },
  {
   "cell_type": "markdown",
   "metadata": {},
   "source": [
    "Напишем функцию для объединения двух линейных движений со сглаживанем:"
   ]
  },
  {
   "cell_type": "code",
   "execution_count": null,
   "metadata": {},
   "outputs": [],
   "source": [
    "def bezier_target(a, b, c, t):\n",
    "    position = Vector.lerp(\n",
    "        Vector.lerp(a.translation, b.translation, t),\n",
    "        Vector.lerp(b.translation, c.translation, t),\n",
    "        t\n",
    "    )\n",
    "    rotation = (1 - t) ** 2 * a.angle +\\\n",
    "        2 * t * (1 - t) * b.angle +\\\n",
    "        t**2 * c.angle\n",
    "    return Target(position, rotation)\n",
    "\n",
    "def lin_lin_smooth(start, inter, end, t, total, blend=0.1):\n",
    "    progress = t / total\n",
    "    if np.abs(progress - 0.5) < blend:\n",
    "        progress = (progress - 0.5 + blend) / 2 / blend\n",
    "        a = lin(start, inter, 1.0 - 2 * blend, 1)\n",
    "        b = inter\n",
    "        c = lin(inter, end, 2 * blend, 1)\n",
    "        return bezier_target(\n",
    "            a,\n",
    "            b,\n",
    "            c,\n",
    "            progress\n",
    "        )\n",
    "    else:\n",
    "        return lin_lin(start, inter, end, t, total)"
   ]
  },
  {
   "cell_type": "code",
   "execution_count": null,
   "metadata": {},
   "outputs": [],
   "source": [
    "blending = 0.1"
   ]
  },
  {
   "cell_type": "code",
   "execution_count": null,
   "metadata": {},
   "outputs": [],
   "source": [
    "(x, y, z) = graphics.chain_to_points(\n",
    "    scara_chain([0, 0, 0, 0, 0, 0], scara_l)\n",
    ")\n",
    "fig, ax = graphics.figure(1000)\n",
    "lines, = ax.plot(x, y, z, color=\"#000000\")\n",
    "graphics.axis(ax, s.to_transform(), 100)\n",
    "graphics.axis(ax, i.to_transform(), 100)\n",
    "graphics.axis(ax, e.to_transform(), 100)\n",
    "\n",
    "total = 100\n",
    "\n",
    "def animate(frame):\n",
    "    trs = lin_lin_smooth(s, i, e, frame, total, 0.1)\n",
    "    q = scara_ik_lim(\n",
    "        trs,\n",
    "        scara_l,\n",
    "    )\n",
    "    if q != None:\n",
    "        chain = scara_chain(q, scara_l)\n",
    "        (x, y, z) = graphics.chain_to_points(chain)\n",
    "        lines.set_data_3d(x, y, z)\n",
    "\n",
    "\n",
    "animate(0)\n",
    "fps = 25\n",
    "scara_ani = animation.FuncAnimation(\n",
    "    fig,\n",
    "    animate,\n",
    "    frames=total,\n",
    "    interval=1000.0/fps\n",
    ")"
   ]
  },
  {
   "cell_type": "markdown",
   "metadata": {},
   "source": [
    "Снова проанализируем скорости обобщенных координат:"
   ]
  },
  {
   "cell_type": "code",
   "execution_count": null,
   "metadata": {},
   "outputs": [],
   "source": [
    "v_lin_lin = np.vectorize(lin_lin_smooth, excluded={0, 1, 2, 4, 5})\n",
    "v_irb_ik = np.vectorize(scara_ik_lim, excluded={1, 2})\n",
    "total = 20\n",
    "step = 0.01\n",
    "t = np.arange(0, total, step)\n",
    "\n",
    "fig = plt.figure()\n",
    "ax = fig.add_subplot()\n",
    "w = np.diff(v_irb_ik(\n",
    "    v_lin_lin(s, i, e, t, total, blending),\n",
    "    scara_l,\n",
    ")) / step;\n",
    "ax.plot(t[:-1], w[0], label=\"$\\omega_0$\")\n",
    "ax.plot(t[:-1], w[1], label=\"$\\omega_1$\")\n",
    "ax.plot(t[:-1], w[2], label=\"$\\omega_2$\")\n",
    "ax.plot(t[:-1], w[3], label=\"$\\omega_3$\")\n",
    "fig.legend()\n",
    "fig.show()"
   ]
  },
  {
   "cell_type": "markdown",
   "metadata": {},
   "source": [
    "Как меняется скорость приводов?"
   ]
  },
  {
   "cell_type": "markdown",
   "metadata": {},
   "source": [
    "## Самостоятельное задание:\n",
    "Проведите исследование для своих точек траектории.\n",
    "\n",
    "Проанализируйте влияние параметра `blend` на скорость обобщенных координат.\n",
    "\n",
    "Оцените ускорения обобщенных координат (через дифференцирование второго порядка `diff(..., 2`)."
   ]
  }
 ],
 "metadata": {
  "@webio": {
   "lastCommId": null,
   "lastKernelId": null
  },
  "kernelspec": {
   "display_name": "Python 3",
   "language": "python",
   "name": "python3"
  },
  "language_info": {
   "codemirror_mode": {
    "name": "ipython",
    "version": 3
   },
   "file_extension": ".py",
   "mimetype": "text/x-python",
   "name": "python",
   "nbconvert_exporter": "python",
   "pygments_lexer": "ipython3",
   "version": "3.9.2"
  }
 },
 "nbformat": 4,
 "nbformat_minor": 4
}
