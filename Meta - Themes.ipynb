{
 "cells": [
  {
   "cell_type": "markdown",
   "metadata": {},
   "source": [
    "# Темы работ\n",
    "\n",
    "## 1 Изучение методов моделирования кинематических цепей\n",
    "\n",
    "Цель: Изучить методы моделирования последовательных кинематических цепей и способы оценки их характеристик.\n",
    "\n",
    "## 2 Изучение решения обратной задачи кинематики\n",
    "\n",
    "Цель: Изучить аналитическое решение обратной задачи кинематики на примере манипуляторов SCARA и PUMA."
   ]
  }
 ],
 "metadata": {
  "kernelspec": {
   "display_name": "venv",
   "language": "python",
   "name": "venv"
  },
  "language_info": {
   "codemirror_mode": {
    "name": "ipython",
    "version": 3
   },
   "file_extension": ".py",
   "mimetype": "text/x-python",
   "name": "python",
   "nbconvert_exporter": "python",
   "pygments_lexer": "ipython3",
   "version": "3.9.1"
  }
 },
 "nbformat": 4,
 "nbformat_minor": 4
}
