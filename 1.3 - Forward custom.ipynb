{
 "cells": [
  {
   "cell_type": "markdown",
   "metadata": {},
   "source": [
    "# Самостоятельное задание"
   ]
  },
  {
   "cell_type": "code",
   "execution_count": null,
   "metadata": {},
   "outputs": [],
   "source": [
    "from matplotlib import pyplot as plt\n",
    "from matplotlib import animation\n",
    "import numpy as np\n",
    "from IPython.display import HTML\n",
    "%matplotlib notebook"
   ]
  },
  {
   "cell_type": "code",
   "execution_count": null,
   "metadata": {},
   "outputs": [],
   "source": [
    "from kinematics import Vector, Quaternion, Transform\n",
    "import graphics"
   ]
  },
  {
   "cell_type": "markdown",
   "metadata": {},
   "source": [
    "## Задание\n",
    "\n",
    "Для своего манипулятора решите прямую задачу кинематики."
   ]
  },
  {
   "cell_type": "code",
   "execution_count": null,
   "metadata": {},
   "outputs": [],
   "source": [
    "def custom_chain(q, l):\n",
    "    base = Transform.identity()\n",
    "    end = base + Transform(\n",
    "        Vector(0, 0, q[0]),\n",
    "        Quaternion.from_angle_axis(q[0], Vector(0, 0, 1))\n",
    "    )\n",
    "    return [\n",
    "        base,\n",
    "        end\n",
    "    ]"
   ]
  },
  {
   "cell_type": "markdown",
   "metadata": {},
   "source": [
    "Задайте закон изменения обобщенных координат:"
   ]
  },
  {
   "cell_type": "code",
   "execution_count": null,
   "metadata": {},
   "outputs": [],
   "source": [
    "def custom_q(t, total):\n",
    "    return [\n",
    "        t / total * np.pi * 2\n",
    "    ]"
   ]
  },
  {
   "cell_type": "markdown",
   "metadata": {},
   "source": [
    "Укажите длину звеньев:"
   ]
  },
  {
   "cell_type": "code",
   "execution_count": null,
   "metadata": {},
   "outputs": [],
   "source": [
    "custom_l = [0]"
   ]
  },
  {
   "cell_type": "code",
   "execution_count": null,
   "metadata": {},
   "outputs": [],
   "source": [
    "custom_fig = plt.figure()\n",
    "ax = custom_fig.add_subplot(projection=\"3d\")\n",
    "ax.set_xlim([-2, 2]); ax.set_ylim([-2, 2]), ax.set_zlim([0, 4])\n",
    "lines, = ax.plot([], [], [], color=\"#000000\")\n",
    "graphics.axis(ax, Transform.identity(), 2);\n",
    "r, g, b = graphics.axis(ax, Transform.identity())\n",
    "\n",
    "total = 100\n",
    "\n",
    "def animate(frame):\n",
    "    chain = custom_chain(custom_q(frame, total), custom_l)\n",
    "    (x, y, z) = graphics.chain_to_points(chain)\n",
    "    lines.set_data_3d(x, y, z)\n",
    "    global r, g, b\n",
    "    r.remove(); g.remove(); b.remove()\n",
    "    r, g, b = graphics.axis(ax, chain[-1], 0.5)\n",
    "\n",
    "animate(0)\n",
    "fps = 25\n",
    "custom_ani = animation.FuncAnimation(\n",
    "    custom_fig,\n",
    "    animate,\n",
    "    frames=total,\n",
    "    interval=1000.0/fps\n",
    ")"
   ]
  },
  {
   "cell_type": "code",
   "execution_count": null,
   "metadata": {},
   "outputs": [],
   "source": [
    "HTML(custom_ani.to_jshtml())"
   ]
  },
  {
   "cell_type": "markdown",
   "metadata": {},
   "source": [
    "## Отображение траектории"
   ]
  },
  {
   "cell_type": "code",
   "execution_count": null,
   "metadata": {},
   "outputs": [],
   "source": [
    "t_end = 10\n",
    "step = 0.1\n",
    "t = np.arange(0, t_end, step)\n",
    "chain = custom_chain(custom_q(t, t_end), custom_l)\n",
    "x, y, z = graphics.chain_to_points(chain)\n",
    "\n",
    "fig = plt.figure()\n",
    "ax = fig.add_subplot(projection=\"3d\")\n",
    "ax.set_xlim([-2, 2]); ax.set_ylim([-2, 2]); ax.set_zlim([0, 4])\n",
    "ax.plot(x[-1], y[-1], z[-1], color=\"#000000\")\n",
    "fig.show()"
   ]
  },
  {
   "cell_type": "markdown",
   "metadata": {},
   "source": [
    "## Измерение скорости движения\n",
    "\n",
    "Численно продиффиринцируем положение всех точек траектории"
   ]
  },
  {
   "cell_type": "code",
   "execution_count": null,
   "metadata": {
    "scrolled": false
   },
   "outputs": [],
   "source": [
    "t_end = 10\n",
    "step = 0.01\n",
    "t = np.arange(0, t_end, step)\n",
    "chain = custom_chain(custom_q(t, t_end), custom_l)\n",
    "end = chain[-1]\n",
    "velocity_x = np.diff(end.translation.x) / step\n",
    "velocity_y = np.diff(end.translation.y) / step\n",
    "velocity_z = np.diff(end.translation.z) / step\n",
    "velocity_total = (velocity_x ** 2 + velocity_y ** 2 + velocity_z ** 2) ** 0.5\n",
    "\n",
    "fig = plt.figure()\n",
    "ax = fig.add_subplot()\n",
    "\n",
    "ax.plot(t[:-1], velocity_x, color=\"#ff0000\", label=\"$V_x$\")\n",
    "ax.plot(t[:-1], velocity_y, color=\"#00ff00\", label=\"$V_y$\")\n",
    "ax.plot(t[:-1], velocity_z, color=\"#0000ff\", label=\"$V_z$\")\n",
    "ax.plot(t[:-1], velocity_total, color=\"#000000\", label=\"$V$\")\n",
    "fig.legend()\n",
    "fig.show()"
   ]
  }
 ],
 "metadata": {
  "kernelspec": {
   "display_name": "venv",
   "language": "python",
   "name": "venv"
  },
  "language_info": {
   "codemirror_mode": {
    "name": "ipython",
    "version": 3
   },
   "file_extension": ".py",
   "mimetype": "text/x-python",
   "name": "python",
   "nbconvert_exporter": "python",
   "pygments_lexer": "ipython3",
   "version": "3.9.1"
  }
 },
 "nbformat": 4,
 "nbformat_minor": 4
}
