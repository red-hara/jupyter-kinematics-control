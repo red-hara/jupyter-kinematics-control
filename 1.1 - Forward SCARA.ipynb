{
 "cells": [
  {
   "cell_type": "markdown",
   "metadata": {},
   "source": [
    "# Прямая задача кинематики SCARA"
   ]
  },
  {
   "cell_type": "code",
   "execution_count": null,
   "metadata": {},
   "outputs": [],
   "source": [
    "from matplotlib import pyplot as plt\n",
    "from matplotlib import animation\n",
    "import numpy as np\n",
    "from IPython.display import HTML\n",
    "%matplotlib notebook"
   ]
  },
  {
   "cell_type": "code",
   "execution_count": null,
   "metadata": {},
   "outputs": [],
   "source": [
    "from kinematics import Vector, Quaternion, Transform\n",
    "import graphics"
   ]
  },
  {
   "cell_type": "markdown",
   "metadata": {},
   "source": [
    "## Решение прямой задачи кинематики для манипулятора SCARA\n",
    "\n",
    "Манипулятор кинематической схемы SCARA обладает четыремя степенями подвижности.\n",
    "\n",
    "![внеший вид SCARA](fig/scara_model.png)\n",
    "\n",
    "Можно выделить высоту колонны, длины первого и второго звеньев.\n",
    "\n",
    "Обобщенные координаты будут в радианах и метрах:\n",
    "\n",
    "Обобщенная координата | Обозначение | Размерность\n",
    "---|---|---\n",
    "Вращение вокруг колонны | $q_0$ | радиан\n",
    "Вращение в локте | $q_1$ | радиан\n",
    "Вращение инструмента | $q_2$ | радиан\n",
    "Перемещение инструмента | $q_3$ | метр"
   ]
  },
  {
   "cell_type": "code",
   "execution_count": null,
   "metadata": {},
   "outputs": [],
   "source": [
    "def scara_chain(q, l, math_source=np):\n",
    "    base = Transform.identity()\n",
    "    column = base + Transform(\n",
    "        Vector(0, 0, l[0]),\n",
    "        Quaternion.from_angle_axis(q[0], Vector(0, 0, 1), math_source)\n",
    "    )\n",
    "    elbow = column + Transform(\n",
    "        Vector(l[1], 0, 0),\n",
    "        Quaternion.from_angle_axis(q[1], Vector(0, 0, 1), math_source)\n",
    "    )\n",
    "    tool = elbow + Transform(\n",
    "        Vector(l[2], 0, 0),\n",
    "        Quaternion.from_angle_axis(q[2], Vector(0, 0, 1), math_source)\n",
    "    )\n",
    "    flange = tool + Transform(\n",
    "        Vector(0, 0, -q[3]),\n",
    "        Quaternion.identity()\n",
    "    )\n",
    "    return [\n",
    "        base,\n",
    "        column,\n",
    "        elbow,\n",
    "        tool,\n",
    "        flange\n",
    "    ]"
   ]
  },
  {
   "cell_type": "markdown",
   "metadata": {},
   "source": [
    "Зададим закон изменения обобщенных координат:"
   ]
  },
  {
   "cell_type": "code",
   "execution_count": null,
   "metadata": {},
   "outputs": [],
   "source": [
    "def scara_q(t, total):\n",
    "    omega = t / total * np.pi * 2\n",
    "    return [\n",
    "        np.pi / 4 * np.sin(omega),\n",
    "        np.pi / 2,\n",
    "        omega,\n",
    "        3 + 3 * np.cos(omega)\n",
    "    ]"
   ]
  },
  {
   "cell_type": "markdown",
   "metadata": {},
   "source": [
    "Укажем длины звеньев:"
   ]
  },
  {
   "cell_type": "code",
   "execution_count": null,
   "metadata": {},
   "outputs": [],
   "source": [
    "scara_l = [8, 4, 3]"
   ]
  },
  {
   "cell_type": "code",
   "execution_count": null,
   "metadata": {},
   "outputs": [],
   "source": [
    "scara_fig = plt.figure()\n",
    "ax = scara_fig.add_subplot(projection=\"3d\")\n",
    "ax.set_xlim(-6, 6); ax.set_ylim(-6, 6); ax.set_zlim(0, 12)\n",
    "lines, = ax.plot([], [], [], color=\"#000000\")\n",
    "graphics.axis(ax, Transform.identity(), 2)\n",
    "r, g, b = graphics.axis(ax, Transform.identity(), 1)\n",
    "\n",
    "total = 100\n",
    "\n",
    "def animate(frame):\n",
    "    chain = scara_chain(scara_q(frame, total), scara_l)\n",
    "    (x, y, z) = graphics.chain_to_points(chain)\n",
    "    lines.set_data_3d(x, y, z)\n",
    "    global r, g, b\n",
    "    r.remove(); g.remove(); b.remove()\n",
    "    r, g, b = graphics.axis(ax, chain[-1], 0.5)\n",
    "\n",
    "    \n",
    "animate(0)\n",
    "fps = 25\n",
    "scara_ani = animation.FuncAnimation(\n",
    "    scara_fig,\n",
    "    animate,\n",
    "    frames=total,\n",
    "    interval=1000.0/fps\n",
    ")"
   ]
  },
  {
   "cell_type": "code",
   "execution_count": null,
   "metadata": {},
   "outputs": [],
   "source": [
    "HTML(scara_ani.to_jshtml())"
   ]
  },
  {
   "cell_type": "markdown",
   "metadata": {},
   "source": [
    "## Отображение траектории"
   ]
  },
  {
   "cell_type": "code",
   "execution_count": null,
   "metadata": {
    "scrolled": false
   },
   "outputs": [],
   "source": [
    "t_end = 10\n",
    "step = 0.01\n",
    "t = np.arange(0, t_end, step)\n",
    "chain = scara_chain(scara_q(t, t_end), scara_l)\n",
    "x, y, z = graphics.chain_to_points(chain)\n",
    "\n",
    "fig = plt.figure()\n",
    "ax = fig.add_subplot(projection=\"3d\")\n",
    "ax.set_xlim(-6, 6); ax.set_ylim(-6, 6); ax.set_zlim(0, 12)\n",
    "ax.plot(x[2], y[2], z[2], color=\"#c0c0c0\")\n",
    "ax.plot(x[3], y[3], z[3], color=\"#c0c0c0\")\n",
    "ax.plot(x[4], y[4], z[4], color=\"#000000\")\n",
    "graphics.axis(ax, Transform.identity(), 2)\n",
    "fig.show()"
   ]
  },
  {
   "cell_type": "markdown",
   "metadata": {},
   "source": [
    "Определим диапазон изменения $Z$ координаты фланца:"
   ]
  },
  {
   "cell_type": "code",
   "execution_count": null,
   "metadata": {},
   "outputs": [],
   "source": [
    "print(\n",
    "    \"Z координата менялась в диапазоне от\",\n",
    "    np.min(x[-1]),\n",
    "    \"до\",\n",
    "    np.max(x[-1])\n",
    ")"
   ]
  },
  {
   "cell_type": "markdown",
   "metadata": {},
   "source": [
    "## Измерение скорости движения\n",
    "\n",
    "Численно продиффиринцируем для всех точек траектории:"
   ]
  },
  {
   "cell_type": "code",
   "execution_count": null,
   "metadata": {},
   "outputs": [],
   "source": [
    "t_end = 10\n",
    "step = 0.01\n",
    "t = np.arange(0, t_end, step)\n",
    "chain = scara_chain(scara_q(t, t_end), scara_l)\n",
    "end = chain[-1]\n",
    "velocity_x = np.diff(end.translation.x) / step\n",
    "velocity_y = np.diff(end.translation.y) / step\n",
    "velocity_z = np.diff(end.translation.z) / step\n",
    "velocity_total = (velocity_x ** 2 + velocity_y ** 2 + velocity_z ** 2) ** 0.5\n",
    "\n",
    "fig = plt.figure()\n",
    "ax = fig.add_subplot()\n",
    "\n",
    "ax.plot(t[:-1], velocity_x, color=\"#ff0000\", label=\"$V_x$\")\n",
    "ax.plot(t[:-1], velocity_y, color=\"#00ff00\", label=\"$V_y$\")\n",
    "ax.plot(t[:-1], velocity_z, color=\"#0000ff\", label=\"$V_z$\")\n",
    "ax.plot(t[:-1], velocity_total, color=\"#000000\", label=\"$V$\")\n",
    "fig.legend()\n",
    "fig.show()"
   ]
  },
  {
   "cell_type": "markdown",
   "metadata": {},
   "source": [
    "Оценим максимальную скорость на траектории:"
   ]
  },
  {
   "cell_type": "code",
   "execution_count": null,
   "metadata": {},
   "outputs": [],
   "source": [
    "index_max = np.argmax(velocity_total)\n",
    "print(\n",
    "    \"Максимальная скорость была\",\n",
    "    velocity_total[index_max],\n",
    "    \"в момент\",\n",
    "    index_max * step,\n",
    "    \"сек\"\n",
    ")"
   ]
  },
  {
   "cell_type": "markdown",
   "metadata": {},
   "source": [
    "## Аналитическое решение прямой задачи кинематики"
   ]
  },
  {
   "cell_type": "code",
   "execution_count": null,
   "metadata": {},
   "outputs": [],
   "source": [
    "import sympy as sp"
   ]
  },
  {
   "cell_type": "code",
   "execution_count": null,
   "metadata": {},
   "outputs": [],
   "source": [
    "l_0, l_1, l_2 = sp.symbols(\"l_0, l_1, l_2\")\n",
    "q_0, q_1, q_2, q_3 = sp.symbols(\"q_0, q_1, q_2, q_3\")"
   ]
  },
  {
   "cell_type": "code",
   "execution_count": null,
   "metadata": {},
   "outputs": [],
   "source": [
    "flange = scara_chain([q_0, q_1, q_2, q_3], [l_0, l_1, l_2], sp)[-1]\n",
    "sp.simplify(flange.translation.x)"
   ]
  },
  {
   "cell_type": "code",
   "execution_count": null,
   "metadata": {},
   "outputs": [],
   "source": [
    "sp.simplify(flange.translation.y)"
   ]
  },
  {
   "cell_type": "code",
   "execution_count": null,
   "metadata": {},
   "outputs": [],
   "source": [
    "sp.simplify(flange.translation.z)"
   ]
  },
  {
   "cell_type": "markdown",
   "metadata": {},
   "source": [
    "## Самостоятельные задания\n",
    "\n",
    "Для своего закона изменения обобщенных координат\n",
    "\n",
    "- Оцените диапазон $X$, $Y$ и $Z$ координат для данной траектории;\n",
    "- Оцените максимальную скорость по осям;\n",
    "- Оцените абсолютную максимальную скорость."
   ]
  }
 ],
 "metadata": {
  "@webio": {
   "lastCommId": null,
   "lastKernelId": null
  },
  "kernelspec": {
   "display_name": "venv",
   "language": "python",
   "name": "venv"
  },
  "language_info": {
   "codemirror_mode": {
    "name": "ipython",
    "version": 3
   },
   "file_extension": ".py",
   "mimetype": "text/x-python",
   "name": "python",
   "nbconvert_exporter": "python",
   "pygments_lexer": "ipython3",
   "version": "3.9.1"
  }
 },
 "nbformat": 4,
 "nbformat_minor": 4
}
