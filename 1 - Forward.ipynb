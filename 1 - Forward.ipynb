{
 "cells": [
  {
   "cell_type": "markdown",
   "metadata": {},
   "source": [
    "# Прямая задача кинематики"
   ]
  },
  {
   "cell_type": "code",
   "execution_count": null,
   "metadata": {},
   "outputs": [],
   "source": [
    "from matplotlib import pyplot as plt\n",
    "from matplotlib import animation\n",
    "import numpy as np\n",
    "from IPython.display import HTML\n",
    "%matplotlib notebook"
   ]
  },
  {
   "cell_type": "code",
   "execution_count": null,
   "metadata": {},
   "outputs": [],
   "source": [
    "from kinematics import Vector, Quaternion, Transform\n",
    "import graphics"
   ]
  },
  {
   "cell_type": "markdown",
   "metadata": {},
   "source": [
    "## Решение прямой задачи кинематики для манипулятора SCARA\n",
    "\n",
    "Манипулятор кинематической схемы SCARA обладает четыремя степенями подвижности.\n",
    "\n",
    "![внеший вид SCARA](fig/scara_model.png)\n",
    "\n",
    "Можно выделить высоту колонны, длины первого и второго звеньев.\n",
    "\n",
    "Обобщенные координаты будут в радианах и метрах:\n",
    "\n",
    "Обобщенная координата | Обозначение | Размерность\n",
    "---|---|---\n",
    "Вращение вокруг колонны | $q_0$ | радиан\n",
    "Вращение в локте | $q_1$ | радиан\n",
    "Вращение инструмента | $q_2$ | радиан\n",
    "Перемещение инструмента | $q_3$ | метр"
   ]
  },
  {
   "cell_type": "code",
   "execution_count": null,
   "metadata": {},
   "outputs": [],
   "source": [
    "def scara_chain(q, l):\n",
    "    base = Transform.identity()\n",
    "    column = base + Transform(\n",
    "        Vector(0, 0, l[0]),\n",
    "        Quaternion.from_angle_axis(q[0], Vector(0, 0, 1))\n",
    "    )\n",
    "    elbow = column + Transform(\n",
    "        Vector(l[1], 0, 0),\n",
    "        Quaternion.from_angle_axis(q[1], Vector(0, 0, 1))\n",
    "    )\n",
    "    tool = elbow + Transform(\n",
    "        Vector(l[2], 0, 0),\n",
    "        Quaternion.from_angle_axis(q[2], Vector(0, 0, 1))\n",
    "    )\n",
    "    flange = tool + Transform(\n",
    "        Vector(0, 0, -q[3]),\n",
    "        Quaternion.identity()\n",
    "    )\n",
    "    return [\n",
    "        base,\n",
    "        column,\n",
    "        elbow,\n",
    "        tool,\n",
    "        flange\n",
    "    ]"
   ]
  },
  {
   "cell_type": "markdown",
   "metadata": {},
   "source": [
    "Зададим закон изменения обобщенных координат:"
   ]
  },
  {
   "cell_type": "code",
   "execution_count": null,
   "metadata": {},
   "outputs": [],
   "source": [
    "def scara_q(t, total):\n",
    "    omega = t / total * np.pi * 2\n",
    "    return [\n",
    "        np.pi / 4 * np.sin(omega),\n",
    "        np.pi / 2,\n",
    "        omega,\n",
    "        3 + 3 * np.sin(omega)\n",
    "    ]"
   ]
  },
  {
   "cell_type": "markdown",
   "metadata": {},
   "source": [
    "Укажем длины звеньев:"
   ]
  },
  {
   "cell_type": "code",
   "execution_count": null,
   "metadata": {},
   "outputs": [],
   "source": [
    "scara_l = [8, 4, 3]"
   ]
  },
  {
   "cell_type": "code",
   "execution_count": null,
   "metadata": {
    "scrolled": false
   },
   "outputs": [],
   "source": [
    "scara_fig = plt.figure()\n",
    "ax = scara_fig.add_subplot(projection=\"3d\")\n",
    "ax.set_xlim(-6, 6); ax.set_ylim(-6, 6); ax.set_zlim(0, 12)\n",
    "lines, = ax.plot([], [], [], color=\"#000000\")\n",
    "graphics.axis(ax, Transform.identity(), 2)\n",
    "r, g, b = graphics.axis(ax, Transform.identity(), 1)\n",
    "def animate(i):\n",
    "    omega = i / 100 * np.pi * 2\n",
    "    chain = scara_chain(scara_q(i, 100), scara_l)\n",
    "    (x, y, z) = graphics.chain_to_points(chain)\n",
    "    lines.set_data_3d(x, y, z)\n",
    "    global r, g, b\n",
    "    r.remove(); g.remove(); b.remove()\n",
    "    r, g, b = graphics.axis(ax, chain[-1], 0.5)\n",
    "\n",
    "    \n",
    "animate(0)\n",
    "fps = 25\n",
    "scara_ani = animation.FuncAnimation(\n",
    "    scara_fig,\n",
    "    animate,\n",
    "    frames=100,\n",
    "    interval=1000.0/fps\n",
    ")"
   ]
  },
  {
   "cell_type": "code",
   "execution_count": null,
   "metadata": {},
   "outputs": [],
   "source": [
    "HTML(scara_ani.to_jshtml())"
   ]
  },
  {
   "cell_type": "markdown",
   "metadata": {},
   "source": [
    "## Решение прямой задачи кинематики для манипулятора PUMA\n",
    "\n",
    "Манипулятор кинематической схемы PUMA обладает шестью степенями подвижности.\n",
    "\n",
    "![внешний виж PUMA](fig/puma_model.png)\n",
    "\n",
    "Его можно условно разделить на сегменты, соединияюще между собой:\n",
    "- основание\n",
    "- плечо\n",
    "- локоть\n",
    "- кисть\n",
    "- фланец\n",
    "\n",
    "![кинематическая схема PUMA](fig/puma.png)\n",
    "\n",
    "Длина этих сегментов определена в таблице:\n",
    "\n",
    "Пара | длина\n",
    ":----|:-----\n",
    "основание - плечо | $l_0$\n",
    "плечо - локоть | $l_1$\n",
    "локоть - кисть | $l_2$\n",
    "кисть - фланец | $l_3$"
   ]
  },
  {
   "cell_type": "code",
   "execution_count": null,
   "metadata": {},
   "outputs": [],
   "source": [
    "def puma_chain(q, l):\n",
    "    base = Transform.identity()\n",
    "    shoulder = base + Transform(\n",
    "        Vector(0, 0, l[0]),\n",
    "        Quaternion.from_angle_axis(q[0], Vector(0, 0, 1)) * \n",
    "        Quaternion.from_angle_axis(q[1], Vector(0, 1, 0))\n",
    "    )\n",
    "    elbow = shoulder + Transform(\n",
    "        Vector(0, 0, l[1]),\n",
    "        Quaternion.from_angle_axis(q[2], Vector(0, 1, 0))\n",
    "    )\n",
    "    wrist = elbow + Transform(\n",
    "        Vector(0, 0, l[2]),\n",
    "        Quaternion.from_angle_axis(q[3], Vector(0, 0, 1)) *\n",
    "        Quaternion.from_angle_axis(q[4], Vector(0, 1, 0))\n",
    "    )\n",
    "    flange = wrist + Transform(\n",
    "        Vector(0, 0, l[3]),\n",
    "        Quaternion.from_angle_axis(q[5], Vector(0, 0, 1))\n",
    "    )\n",
    "    return [base, shoulder, elbow, wrist, flange]"
   ]
  },
  {
   "cell_type": "markdown",
   "metadata": {},
   "source": [
    "Зададим изменение обобщенных координат:"
   ]
  },
  {
   "cell_type": "code",
   "execution_count": null,
   "metadata": {},
   "outputs": [],
   "source": [
    "def puma_q(t, total):\n",
    "    omega = t / total * np.pi * 2\n",
    "    return [\n",
    "        np.pi / 4 * np.sin(omega),\n",
    "        np.pi / 8,\n",
    "        np.pi / 2,\n",
    "        omega,\n",
    "        np.pi / 2,\n",
    "        0\n",
    "    ]"
   ]
  },
  {
   "cell_type": "markdown",
   "metadata": {},
   "source": [
    "Зададим длины звеньев:"
   ]
  },
  {
   "cell_type": "code",
   "execution_count": null,
   "metadata": {},
   "outputs": [],
   "source": [
    "puma_l = [1, 2, 1, 0.5]"
   ]
  },
  {
   "cell_type": "code",
   "execution_count": null,
   "metadata": {},
   "outputs": [],
   "source": [
    "puma_fig = plt.figure()\n",
    "ax = puma_fig.add_subplot(projection=\"3d\")\n",
    "ax.set_xlim([-2, 2]); ax.set_ylim([-2, 2]); ax.set_zlim([0, 4])\n",
    "lines, = ax.plot([], [], [], color=\"#000000\")\n",
    "graphics.axis(ax, Transform.identity(), 2)\n",
    "r, g, b = graphics.axis(ax, Transform.identity(), 1)\n",
    "def animate(i):\n",
    "    omega = i / 100 * np.pi * 2\n",
    "    chain = puma_chain(puma_q(i, 100), puma_l)\n",
    "    (x, y, z) = graphics.chain_to_points(chain)\n",
    "    lines.set_data_3d(x, y, z)\n",
    "    global r, g, b\n",
    "    r.remove(); g.remove(); b.remove()\n",
    "    r, g, b = graphics.axis(ax, chain[-1], 0.5)\n",
    "\n",
    "    \n",
    "animate(0)\n",
    "fps = 25\n",
    "puma_ani = animation.FuncAnimation(\n",
    "    puma_fig,\n",
    "    animate,\n",
    "    frames=100,\n",
    "    interval=1000.0/fps\n",
    ")"
   ]
  },
  {
   "cell_type": "code",
   "execution_count": null,
   "metadata": {},
   "outputs": [],
   "source": [
    "HTML(puma_ani.to_jshtml())"
   ]
  }
 ],
 "metadata": {
  "@webio": {
   "lastCommId": null,
   "lastKernelId": null
  },
  "kernelspec": {
   "display_name": "venv",
   "language": "python",
   "name": "venv"
  },
  "language_info": {
   "codemirror_mode": {
    "name": "ipython",
    "version": 3
   },
   "file_extension": ".py",
   "mimetype": "text/x-python",
   "name": "python",
   "nbconvert_exporter": "python",
   "pygments_lexer": "ipython3",
   "version": "3.9.1"
  }
 },
 "nbformat": 4,
 "nbformat_minor": 4
}
