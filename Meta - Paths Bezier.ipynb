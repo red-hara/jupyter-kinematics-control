{
 "cells": [
  {
   "cell_type": "markdown",
   "metadata": {},
   "source": [
    "# Контурное управление со сглаживанием на кривых Безье"
   ]
  },
  {
   "cell_type": "code",
   "execution_count": null,
   "metadata": {},
   "outputs": [],
   "source": [
    "from matplotlib import pyplot as plt\n",
    "from matplotlib import animation\n",
    "import numpy as np\n",
    "from IPython.display import HTML\n",
    "%matplotlib notebook"
   ]
  },
  {
   "cell_type": "code",
   "execution_count": null,
   "metadata": {},
   "outputs": [],
   "source": [
    "from kinematics import Vector, Quaternion, Transform\n",
    "import graphics"
   ]
  },
  {
   "cell_type": "code",
   "execution_count": null,
   "metadata": {},
   "outputs": [],
   "source": [
    "def bezier_curve(s, i, e, t):\n",
    "    return s * (1 - t) ** 2 + i * 2 * (1 - t) * t + e * t ** 2\n",
    "\n",
    "def bezier_length(s, i, e):\n",
    "    b = i + -1 * s\n",
    "    f = e + -1 * i\n",
    "    a = f + -1 * b\n",
    "    \n",
    "    pa = (f.magnitude() * a.dot(f) - b.magnitude() * a.dot(b)) / a.magnitude() ** 2\n",
    "    pb = ((b.magnitude() ** 2) / a.magnitude() - (a.dot(b) ** 2) / (a.magnitude() ** 3))\n",
    "    pc = np.log(a.magnitude() * f.magnitude() + a.dot(f)) - np.log(a.magnitude() * b.magnitude() + a.dot(b))\n",
    "    \n",
    "    return pa + pb * pc\n",
    "\n",
    "def bezier_vel(s, i, e, t):\n",
    "    return 2 * (t * a + -1 *  a + -2 * b * t + b + c * t)"
   ]
  },
  {
   "cell_type": "code",
   "execution_count": null,
   "metadata": {},
   "outputs": [],
   "source": [
    "s = Vector(2, -4, 0)\n",
    "i = Vector(2, 3, 5)\n",
    "e = Vector(-3, 3, 0)\n",
    "r = 2"
   ]
  },
  {
   "cell_type": "code",
   "execution_count": null,
   "metadata": {},
   "outputs": [],
   "source": [
    "d1 = i + -1 * s\n",
    "d2 = e + -1 * i"
   ]
  },
  {
   "cell_type": "code",
   "execution_count": null,
   "metadata": {},
   "outputs": [],
   "source": [
    "bs = s + d1.normalized() * (d1.magnitude() - r)\n",
    "be = e + -1 * d2.normalized() * (d2.magnitude() - r)"
   ]
  },
  {
   "cell_type": "code",
   "execution_count": null,
   "metadata": {},
   "outputs": [],
   "source": [
    "l1 = d1.magnitude() - r\n",
    "l2 = bezier_length(bs, i, be)\n",
    "l2 = 2 * r\n",
    "l3 = d2.magnitude() - r\n",
    "\n",
    "def path(t):\n",
    "    total = l1 + l2 + l3\n",
    "    position = t * total\n",
    "    if position < l1:\n",
    "        progress = position / l1\n",
    "        return s + progress * l1 * d1.normalized()\n",
    "    if position < l1 + l2:\n",
    "        progress = (position - l1) / l2\n",
    "        return bezier_curve(bs, i, be, progress)\n",
    "    if position < l1 + l2 + l3:\n",
    "        progress = (position - l1 - l2) / l3\n",
    "        return i + (r + (progress * l3)) * d2.normalized()\n",
    "    return Vector.zero()"
   ]
  },
  {
   "cell_type": "code",
   "execution_count": null,
   "metadata": {
    "scrolled": false
   },
   "outputs": [],
   "source": [
    "fig, ax = graphics.figure(6)\n",
    "ax.plot([s.x, i.x, e.x], [s.y, i.y, e.y], [s.z, i.z, e.z], label=\"path\")\n",
    "\n",
    "l, = ax.plot([], [], [], label=\"motion\")\n",
    "\n",
    "t = np.arange(0, 1, 0.01)\n",
    "f = bezier_curve(bs, i, be, t)\n",
    "ax.plot(f.x, f.y, f.z, label=\"bezier\")\n",
    "\n",
    "total = 100\n",
    "\n",
    "def animate(frame):\n",
    "    t = frame / total\n",
    "    p = path(t)\n",
    "    l.set_data_3d([0, p.x], [0, p.y], [0, p.z])\n",
    "\n",
    "fig.legend()\n",
    "\n",
    "animate(50)\n",
    "fps = 25\n",
    "ani = animation.FuncAnimation(\n",
    "    fig,\n",
    "    animate,\n",
    "    frames=total,\n",
    "    interval=1000.0/fps\n",
    ")"
   ]
  },
  {
   "cell_type": "code",
   "execution_count": null,
   "metadata": {
    "scrolled": false
   },
   "outputs": [],
   "source": [
    "v_path = np.vectorize(path)\n",
    "step = 0.001\n",
    "t = np.arange(0, 1, step)\n",
    "pos = v_path(t)\n",
    "x = []\n",
    "y = []\n",
    "z = []\n",
    "for p in pos:\n",
    "    x += [p.x]\n",
    "    y += [p.y]\n",
    "    z += [p.z]\n",
    "vx = np.diff(x) / step\n",
    "vy = np.diff(y) / step\n",
    "vz = np.diff(z) / step\n",
    "v = (vx ** 2 + vy ** 2 + vz ** 2) ** 0.5\n",
    "\n",
    "acx = np.diff(vx) / step\n",
    "acy = np.diff(vy) / step\n",
    "acz = np.diff(vz) / step\n",
    "\n",
    "fig = plt.figure(figsize=(8, 8))\n",
    "ax = fig.add_subplot(2, 2, 1)\n",
    "ax.plot(t, x, color=\"#c00000\", label=\"$x$\")\n",
    "ax.plot(t, y, color=\"#00c000\", label=\"$y$\")\n",
    "ax.plot(t, z, color=\"#0000c0\", label=\"$z$\")\n",
    "ax.legend()\n",
    "\n",
    "ava = fig.add_subplot(2, 2, 2)\n",
    "ava.plot(t[:-1], v, label=\"$v$\")\n",
    "ava.set_ylim((0, np.max(v) + 1))\n",
    "ava.legend()\n",
    "\n",
    "av = fig.add_subplot(2, 2, 3)\n",
    "av.plot(t[:-1], vx, color=\"#c00000\", label=\"$V_x$\")\n",
    "av.plot(t[:-1], vy, color=\"#00c000\", label=\"$V_y$\")\n",
    "av.plot(t[:-1], vz, color=\"#0000c0\", label=\"$V_z$\")\n",
    "av.legend()\n",
    "\n",
    "aa = fig.add_subplot(2, 2, 4)\n",
    "aa.plot(t[:-2], acx, color=\"#c00000\", label=\"$a_x$\")\n",
    "aa.plot(t[:-2], acy, color=\"#00c000\", label=\"$a_y$\")\n",
    "aa.plot(t[:-2], acz, color=\"#0000c0\", label=\"$a_z$\")\n",
    "aa.legend()\n",
    "\n",
    "fig.show()"
   ]
  }
 ],
 "metadata": {
  "@webio": {
   "lastCommId": null,
   "lastKernelId": null
  },
  "kernelspec": {
   "display_name": "venv",
   "language": "python",
   "name": "venv"
  },
  "language_info": {
   "codemirror_mode": {
    "name": "ipython",
    "version": 3
   },
   "file_extension": ".py",
   "mimetype": "text/x-python",
   "name": "python",
   "nbconvert_exporter": "python",
   "pygments_lexer": "ipython3",
   "version": "3.9.2"
  }
 },
 "nbformat": 4,
 "nbformat_minor": 4
}
