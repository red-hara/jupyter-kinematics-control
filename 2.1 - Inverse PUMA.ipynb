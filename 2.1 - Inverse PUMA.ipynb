{
 "cells": [
  {
   "cell_type": "markdown",
   "metadata": {},
   "source": [
    "# Обратная задача кинематики PUMA"
   ]
  },
  {
   "cell_type": "code",
   "execution_count": null,
   "metadata": {},
   "outputs": [],
   "source": [
    "from matplotlib import pyplot as plt\n",
    "from matplotlib import animation\n",
    "import numpy as np\n",
    "from IPython.display import HTML\n",
    "%matplotlib notebook"
   ]
  },
  {
   "cell_type": "code",
   "execution_count": null,
   "metadata": {},
   "outputs": [],
   "source": [
    "from kinematics import Vector, Quaternion, Transform\n",
    "import graphics"
   ]
  },
  {
   "cell_type": "markdown",
   "metadata": {},
   "source": [
    "## Рассмотрим кинематическую модель, более приближенную к реальности\n",
    "\n",
    "Возьмем манипулятор ABB IRB 140.\n",
    "\n",
    "![irb 140](fig/irb_140.png)\n",
    "\n",
    "Расстояние | Значение (мм)\n",
    "-----------|--------------\n",
    "Высота колонны | 352\n",
    "Вынос вперед | 70\n",
    "Плечо | 360\n",
    "Предплечье | 380\n",
    "Кисть | 65"
   ]
  },
  {
   "cell_type": "code",
   "execution_count": null,
   "metadata": {},
   "outputs": [],
   "source": [
    "irb_l = [352, 70, 350, 380, 65]"
   ]
  },
  {
   "cell_type": "markdown",
   "metadata": {},
   "source": [
    "Учтем диапазон изменения обобщенных координат (град)\n",
    "\n",
    "Обобщенная координата | Минимум | Максимум\n",
    "----------------------|---------|---------\n",
    "A1 | -180 | 180\n",
    "A2 | -110 | 90\n",
    "A3 | -140 | 140\n",
    "A4 | -180 | 180\n",
    "A5 | -115 | 115\n",
    "A6 | -180 | 180"
   ]
  },
  {
   "cell_type": "code",
   "execution_count": null,
   "metadata": {},
   "outputs": [],
   "source": [
    "irb_lim = [\n",
    "    (-180, 180),\n",
    "    (-90, 110),\n",
    "    (-230, 50),\n",
    "    (-200, 200),\n",
    "    (-115, 115),\n",
    "    (-400, 400)\n",
    "]"
   ]
  },
  {
   "cell_type": "markdown",
   "metadata": {},
   "source": [
    "При решении прямой задачи учтем что физические нули расположены неочевидно"
   ]
  },
  {
   "cell_type": "code",
   "execution_count": null,
   "metadata": {},
   "outputs": [],
   "source": [
    "def irb_chain(q, l):\n",
    "    base = Transform.identity()\n",
    "    column = base + Transform(\n",
    "        Vector(0, 0, l[0]),\n",
    "        Quaternion.from_angle_axis(q[0], Vector(0, 0, 1))\n",
    "    )\n",
    "    shoulder = column + Transform(\n",
    "        Vector(l[1], 0, 0),\n",
    "        Quaternion.from_angle_axis(q[1], Vector(0, -1, 0))\n",
    "    )\n",
    "    elbow = shoulder + Transform(\n",
    "        Vector(0, 0, l[2]),\n",
    "        Quaternion.from_angle_axis(q[2], Vector(0, 1, 0))\n",
    "    )\n",
    "    wrist = elbow + Transform(\n",
    "        Vector(l[3], 0, 0),\n",
    "        Quaternion.from_angle_axis(q[3], Vector(1, 0, 0)) *\n",
    "        Quaternion.from_angle_axis(q[4], Vector(0, 1, 0))\n",
    "    )\n",
    "    flange = wrist + Transform(\n",
    "        Vector(l[4], 0, 0),\n",
    "        Quaternion.from_angle_axis(q[5], Vector(1, 0, 0)) *\n",
    "        Quaternion.from_angle_axis(np.pi / 2, Vector(0, 1, 0))\n",
    "    )\n",
    "    return [\n",
    "        base,\n",
    "        column,\n",
    "        shoulder,\n",
    "        elbow,\n",
    "        wrist,\n",
    "        flange\n",
    "    ]"
   ]
  },
  {
   "cell_type": "markdown",
   "metadata": {},
   "source": [
    "Решим обратную задачу кинематики:"
   ]
  },
  {
   "cell_type": "code",
   "execution_count": null,
   "metadata": {},
   "outputs": [],
   "source": [
    "def irb_ik(target, l, i=[1, 1, 1]):\n",
    "    wrist = target + Vector(0, 0, -l[4]) +  Vector(0, 0, -l[0])\n",
    "    projection = Vector(wrist.x, wrist.y, 0)\n",
    "    q0 = Vector(0, 1, 0).angle_to(projection, Vector(0, 0, 1)) - np.pi / 2 * i[0] + np.pi\n",
    "    d = ((projection.magnitude() - i[0] * l[1]) ** 2 + wrist.z ** 2) ** 0.5\n",
    "    q2 = -i[1] * np.arccos(\n",
    "        (l[2] **  2 + l[3] ** 2 - d ** 2) /\\\n",
    "        (2 * l[2] * l[3])\n",
    "    ) + np.pi / 2\n",
    "    triangle_angle = np.arcsin(\n",
    "        l[3] * i[0] * np.sin(q2 - np.pi / 2) / d\n",
    "    )\n",
    "    lift_angle = np.arctan2(\n",
    "        wrist.z,\n",
    "        (projection.magnitude() - i[0] * l[1])\n",
    "    )\n",
    "    q1 = -i[0] * (np.pi / 2 + triangle_angle - lift_angle)\n",
    "    ori = Quaternion.from_angle_axis(q0, Vector(0, 0, 1)) *\\\n",
    "        Quaternion.from_angle_axis(q1, Vector(0, -1, 0)) *\\\n",
    "        Quaternion.from_angle_axis(q2, Vector(0, 1, 0))\n",
    "    ez = ori * Vector(1, 0, 0)\n",
    "    ey = ori * Vector(0, 1, 0)\n",
    "    tz = target.rotation * Vector(0, 0, 1)\n",
    "    ty = target.rotation * Vector(0, 1, 0)\n",
    "    wy = ez.cross(tz)\n",
    "    q3 = ey.angle_to(wy, ez) + np.pi / 2 - np.pi / 2 * i[2]\n",
    "    q4 = ez.angle_to(tz, wy) * i[2]\n",
    "    q5 = wy.angle_to(ty, tz) + np.pi / 2 -np.pi / 2 * i[2]\n",
    "    return [q0, q1, q2, q3, q4, q5]"
   ]
  },
  {
   "cell_type": "markdown",
   "metadata": {},
   "source": [
    "Зададим закон изменения положения:"
   ]
  },
  {
   "cell_type": "code",
   "execution_count": null,
   "metadata": {},
   "outputs": [],
   "source": [
    "def target(t, total):\n",
    "    return Transform(\n",
    "        Vector(0, 500, 1000 * t / total) if t / total < 0.5 else Vector((t / total - 0.5) * 500, 500, 500),\n",
    "        Quaternion.from_angle_axis(\n",
    "            t / total * np.pi + np.pi if t / total < 0.5 else 3 / 2 * np.pi,\n",
    "            Vector(1, 0, 0)\n",
    "        )\n",
    "    )"
   ]
  },
  {
   "cell_type": "markdown",
   "metadata": {},
   "source": [
    "Укажем флаги конфиругации:"
   ]
  },
  {
   "cell_type": "code",
   "execution_count": null,
   "metadata": {},
   "outputs": [],
   "source": [
    "irb_i = [1, 1, 1]"
   ]
  },
  {
   "cell_type": "code",
   "execution_count": null,
   "metadata": {
    "scrolled": false
   },
   "outputs": [],
   "source": [
    "(x, y, z) = graphics.chain_to_points(\n",
    "    irb_chain([0, 0, 0, 0, 0, 0], irb_l)\n",
    ")\n",
    "fig, ax = graphics.figure(1000)\n",
    "lines, = ax.plot(x, y, z, color=\"#000000\")\n",
    "rt, gt, bt = graphics.axis(ax, Transform.identity(), 1)\n",
    "rf, gf, bf = graphics.axis(ax, Transform.identity(), 1)\n",
    "\n",
    "total = 100\n",
    "\n",
    "def animate(frame):\n",
    "    t = target(frame, total)\n",
    "    q = irb_ik(\n",
    "        t,\n",
    "        irb_l,\n",
    "        irb_i\n",
    "    )\n",
    "    chain = irb_chain(q, irb_l)\n",
    "    (x, y, z) = graphics.chain_to_points(chain)\n",
    "    lines.set_data_3d(x, y, z)\n",
    "    global rt, gt, bt, rf, gf, bf\n",
    "    rt.remove(); gt.remove(); bt.remove(); rf.remove(); gf.remove(); bf.remove()\n",
    "    rt, gt, bt = graphics.axis(ax, t, 100)\n",
    "    rf, gf, bf = graphics.axis(ax, chain[-1], 100)\n",
    "\n",
    "\n",
    "animate(0)\n",
    "fps = 25\n",
    "irb_ani = animation.FuncAnimation(\n",
    "    fig,\n",
    "    animate,\n",
    "    frames=total,\n",
    "    interval=1000.0/fps\n",
    ")"
   ]
  }
 ],
 "metadata": {
  "@webio": {
   "lastCommId": null,
   "lastKernelId": null
  },
  "kernelspec": {
   "display_name": "venv",
   "language": "python",
   "name": "venv"
  },
  "language_info": {
   "codemirror_mode": {
    "name": "ipython",
    "version": 3
   },
   "file_extension": ".py",
   "mimetype": "text/x-python",
   "name": "python",
   "nbconvert_exporter": "python",
   "pygments_lexer": "ipython3",
   "version": "3.9.1"
  }
 },
 "nbformat": 4,
 "nbformat_minor": 4
}
