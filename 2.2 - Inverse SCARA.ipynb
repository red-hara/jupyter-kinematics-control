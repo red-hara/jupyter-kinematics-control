{
 "cells": [
  {
   "cell_type": "markdown",
   "metadata": {},
   "source": [
    "# Обратная задача кинематики для SCARA"
   ]
  },
  {
   "cell_type": "code",
   "execution_count": null,
   "metadata": {},
   "outputs": [],
   "source": [
    "from matplotlib import pyplot as plt\n",
    "from matplotlib import animation\n",
    "import numpy as np\n",
    "from IPython.display import HTML\n",
    "%matplotlib notebook"
   ]
  },
  {
   "cell_type": "code",
   "execution_count": null,
   "metadata": {},
   "outputs": [],
   "source": [
    "from kinematics import Vector, Quaternion, Transform\n",
    "import graphics"
   ]
  },
  {
   "cell_type": "markdown",
   "metadata": {},
   "source": [
    "Зададим длины звеньев:\n",
    "\n",
    "Длина | Величина (мм)\n",
    "------|--------------\n",
    "$l_0$ | 220.2\n",
    "$l_1$ | 200\n",
    "$l_2$ | 250"
   ]
  },
  {
   "cell_type": "code",
   "execution_count": null,
   "metadata": {},
   "outputs": [],
   "source": [
    "scara_l = [220.2, 200, 250]"
   ]
  },
  {
   "cell_type": "markdown",
   "metadata": {},
   "source": [
    "Укажем диапазоны изменения обобщенных координат:\n",
    "\n",
    "Координата | Минимальное | Максимальное\n",
    "-----------|-------------|-------------\n",
    "$q_0$      | -140 град   | 140 град\n",
    "$q_1$      | -150 град   | 150 град\n",
    "$q_2$      | -400 град   | 400 град\n",
    "$q_3$      | 0 мм        | 180 мм"
   ]
  },
  {
   "cell_type": "code",
   "execution_count": null,
   "metadata": {},
   "outputs": [],
   "source": [
    "scara_lim = [\n",
    "    (-140, 140),\n",
    "    (-150, 150),\n",
    "    (-400, 400),\n",
    "    (0, 180)\n",
    "]"
   ]
  },
  {
   "cell_type": "markdown",
   "metadata": {},
   "source": [
    "Возьмем готовое решение прямой задачи кинематики:"
   ]
  },
  {
   "cell_type": "code",
   "execution_count": null,
   "metadata": {},
   "outputs": [],
   "source": [
    "def scara_chain(q, l):\n",
    "    base = Transform.identity()\n",
    "    column = base + Transform(\n",
    "        Vector(0, 0, l[0]),\n",
    "        Quaternion.from_angle_axis(q[0], Vector(0, 0, 1))\n",
    "    )\n",
    "    elbow = column + Transform(\n",
    "        Vector(l[1], 0, 0),\n",
    "        Quaternion.from_angle_axis(q[1], Vector(0, 0, 1))\n",
    "    )\n",
    "    tool = elbow + Transform(\n",
    "        Vector(l[2], 0, 0),\n",
    "        Quaternion.from_angle_axis(q[2], Vector(0, 0, 1))\n",
    "    )\n",
    "    flange = tool + Transform(\n",
    "        Vector(0, 0, -q[3]),\n",
    "        Quaternion.identity()\n",
    "    )\n",
    "    return [\n",
    "        base,\n",
    "        column,\n",
    "        elbow,\n",
    "        tool,\n",
    "        flange\n",
    "    ]"
   ]
  },
  {
   "cell_type": "markdown",
   "metadata": {},
   "source": [
    "Для описания целевого положения будем использовать вектор и угол поворота вокруг вертикальной оси:"
   ]
  },
  {
   "cell_type": "code",
   "execution_count": null,
   "metadata": {},
   "outputs": [],
   "source": [
    "class Target:\n",
    "    def __init__(self, translation, angle):\n",
    "        super(Target, self).__init__()\n",
    "        self.translation = translation\n",
    "        self.angle = angle\n",
    "    \n",
    "    def to_transform(self):\n",
    "        return Transform(\n",
    "            self.translation,\n",
    "            Quaternion.from_angle_axis(\n",
    "                self.angle,\n",
    "                Vector(0, 0, 1)\n",
    "            )\n",
    "        )"
   ]
  },
  {
   "cell_type": "markdown",
   "metadata": {},
   "source": [
    "## Самостоятельное задание\n",
    "\n",
    "Самостоятельно решите обратную задачу кинематики:"
   ]
  },
  {
   "cell_type": "code",
   "execution_count": null,
   "metadata": {},
   "outputs": [],
   "source": [
    "def wrap_from_to(value, s, e):\n",
    "    r = e - s\n",
    "    return value - (r * np.floor((value - s) / r))\n",
    "\n",
    "def scara_ik(target, l):\n",
    "    d = (target.translation.x ** 2 + target.translation.y ** 2) ** 0.5\n",
    "    q0 = Vector(1, 0, 0).angle_to(\n",
    "        Vector(target.translation.x, target.translation.y, 0),\n",
    "        Vector(0, 0, 1)\n",
    "    )\n",
    "    q1 = np.pi / 2\n",
    "    q2 = 0\n",
    "    q3 = 100\n",
    "    return (\n",
    "        wrap_from_to(q0, -np.pi, np.pi),\n",
    "        wrap_from_to(q1, -np.pi, np.pi),\n",
    "        wrap_from_to(q2, -np.pi, np.pi),\n",
    "        q3\n",
    "    )"
   ]
  },
  {
   "cell_type": "markdown",
   "metadata": {},
   "source": [
    "Зададим закон изменения целевого положения:"
   ]
  },
  {
   "cell_type": "code",
   "execution_count": null,
   "metadata": {},
   "outputs": [],
   "source": [
    "def target(t, total):\n",
    "    omega = t / total * np.pi * 2\n",
    "    return Target(\n",
    "        Vector(200, 0, 100) + 100 * Vector(np.cos(omega), np.sin(omega), 0),\n",
    "        4 * omega\n",
    "    )"
   ]
  },
  {
   "cell_type": "code",
   "execution_count": null,
   "metadata": {},
   "outputs": [],
   "source": [
    "(x, y, z) = graphics.chain_to_points(\n",
    "    scara_chain([0, 0, 0, 0], scara_l)\n",
    ")\n",
    "fig, ax = graphics.figure(600)\n",
    "lines, = ax.plot(x, y, z, color=\"#000000\")\n",
    "rt, gt, bt = graphics.axis(ax, Transform.identity(), 1)\n",
    "rf, gf, bf = graphics.axis(ax, Transform.identity(), 1)\n",
    "\n",
    "total = 100\n",
    "\n",
    "def animate(frame):\n",
    "    t = target(frame, total)\n",
    "    q = scara_ik(\n",
    "        t,\n",
    "        scara_l\n",
    "    )\n",
    "    chain = scara_chain(q, scara_l)\n",
    "    (x, y, z) = graphics.chain_to_points(chain)\n",
    "    lines.set_data_3d(x, y, z)\n",
    "    global rt, gt, bt, rf, gf, bf\n",
    "    rt.remove(); gt.remove(); bt.remove(); rf.remove(); gf.remove(); bf.remove()\n",
    "    rt, gt, bt = graphics.axis(ax, t.to_transform(), 100)\n",
    "    rf, gf, bf = graphics.axis(ax, chain[-1], 100)\n",
    "\n",
    "\n",
    "animate(0)\n",
    "fps = 25\n",
    "scara_ani = animation.FuncAnimation(\n",
    "    fig,\n",
    "    animate,\n",
    "    frames=total,\n",
    "    interval=1000.0/fps\n",
    ")"
   ]
  },
  {
   "cell_type": "code",
   "execution_count": null,
   "metadata": {},
   "outputs": [],
   "source": [
    "HTML(scara_ani.to_jshtml())"
   ]
  },
  {
   "cell_type": "code",
   "execution_count": null,
   "metadata": {},
   "outputs": [],
   "source": [
    "def scara_limited_ik(target, l):\n",
    "    solution = scara_ik(target, l)\n",
    "    if solution[0] < np.deg2rad(scara_lim[0][0]) or solution[0] > np.deg2rad(scara_lim[0][1]) or np.isnan(solution[0]):\n",
    "        return None\n",
    "    if solution[1] < np.deg2rad(scara_lim[1][0]) or solution[1] > np.deg2rad(scara_lim[1][1]) or np.isnan(solution[1]):\n",
    "        return None\n",
    "    if solution[2] < np.deg2rad(scara_lim[2][0]) or solution[2] > np.deg2rad(scara_lim[2][1]) or np.isnan(solution[2]):\n",
    "        return None\n",
    "    if solution[3] < scara_lim[3][0] or solution[3] > scara_lim[3][1] or np.isnan(solution[3]):\n",
    "        return None\n",
    "    return solution"
   ]
  },
  {
   "cell_type": "markdown",
   "metadata": {},
   "source": [
    "Оценим рабочую зону:"
   ]
  },
  {
   "cell_type": "code",
   "execution_count": null,
   "metadata": {},
   "outputs": [],
   "source": [
    "size = 600\n",
    "step = 25\n",
    "\n",
    "fig, ax = graphics.figure(size * 2)\n",
    "\n",
    "px = []; py = []; pz = []\n",
    "\n",
    "for x in np.arange(-size, size, step):\n",
    "    for y in np.arange(-size, size, step):\n",
    "        for z in np.arange(0, size, step):\n",
    "            t = Target(Vector(x, y, z), 0)\n",
    "            if scara_limited_ik(t, scara_l) != None:\n",
    "                px += [x]\n",
    "                py += [y]\n",
    "                pz += [z]\n",
    "\n",
    "ax.scatter(px, py, pz)\n",
    "fig.show()"
   ]
  },
  {
   "cell_type": "markdown",
   "metadata": {},
   "source": [
    "## Самостоятельное задание\n",
    "\n",
    "- Для своего закона изменения целевого положения постройте графики изменения обобщенных координат;\n",
    "- Оцените рабочую зону аналитически, постройте вид сверху в системе САПР"
   ]
  }
 ],
 "metadata": {
  "kernelspec": {
   "display_name": "venv",
   "language": "python",
   "name": "venv"
  },
  "language_info": {
   "codemirror_mode": {
    "name": "ipython",
    "version": 3
   },
   "file_extension": ".py",
   "mimetype": "text/x-python",
   "name": "python",
   "nbconvert_exporter": "python",
   "pygments_lexer": "ipython3",
   "version": "3.9.1"
  }
 },
 "nbformat": 4,
 "nbformat_minor": 4
}
